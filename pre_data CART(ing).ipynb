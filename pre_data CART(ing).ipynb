{
 "cells": [
  {
   "cell_type": "code",
   "execution_count": 1,
   "id": "2ef7b308-b270-4b14-9927-c96a8873e81f",
   "metadata": {},
   "outputs": [],
   "source": [
    "import pandas as pd\n",
    "import numpy as np"
   ]
  },
  {
   "cell_type": "code",
   "execution_count": 2,
   "id": "0e13a549-d02e-4d5a-b4ba-7ddff6bb94d5",
   "metadata": {},
   "outputs": [],
   "source": [
    "merged = pd.read_csv('merge.csv')"
   ]
  },
  {
   "cell_type": "code",
   "execution_count": 3,
   "id": "6f14229e-0ea7-45b7-8a1e-5c104db3e90a",
   "metadata": {},
   "outputs": [],
   "source": [
    "merged = merged.drop(['application_id', 'bank_id', 'product_id', 'loanapply_insert_time', 'user_id', 'birth_year', 'gender', 'insert_time'],\n",
    "                       axis = 1)"
   ]
  },
  {
   "cell_type": "code",
   "execution_count": 4,
   "id": "dc50e4d2-e90e-4d22-99b4-0ac5b2eea9db",
   "metadata": {},
   "outputs": [],
   "source": [
    "merged.loc[merged['loan_limit'] != merged['loan_limit'], 'loan_limit'] = merged['loan_limit'].mean()\n",
    "merged.loc[merged['loan_rate'] != merged['loan_rate'], 'loan_rate'] = merged['loan_rate'].mean()\n",
    "merged.loc[merged['personal_rehabilitation_yn'] != merged['personal_rehabilitation_yn'], 'personal_rehabilitation_yn'] = 0\n",
    "merged.loc[merged['personal_rehabilitation_complete_yn'] != merged['personal_rehabilitation_complete_yn'], 'personal_rehabilitation_complete_yn'] = 0\n",
    "merged = merged.dropna(subset=['credit_score', 'existing_loan_cnt', 'working_period'], axis=0)"
   ]
  },
  {
   "cell_type": "code",
   "execution_count": 5,
   "id": "f0f8e825-28c2-4a34-8de2-955f31a1a6e8",
   "metadata": {},
   "outputs": [],
   "source": [
    "merged['tmp'] = merged['existing_loan_amt'] / merged['existing_loan_cnt']\n",
    "tmp_mean = merged['tmp'].mean()"
   ]
  },
  {
   "cell_type": "code",
   "execution_count": 6,
   "id": "348e02cb-13a2-409c-b9e7-09f47d379d5e",
   "metadata": {},
   "outputs": [],
   "source": [
    "merged.loc[merged['existing_loan_amt'] != merged['existing_loan_amt'], 'existing_loan_amt'] = tmp_mean"
   ]
  },
  {
   "cell_type": "code",
   "execution_count": 7,
   "id": "5396b01a-00f3-48fc-b990-7bf6e55d08b7",
   "metadata": {},
   "outputs": [],
   "source": [
    "merged = merged.drop(['tmp'], axis=1)\n",
    "training_set = merged.dropna(subset=['is_applied'], axis=0)"
   ]
  },
  {
   "cell_type": "code",
   "execution_count": 8,
   "id": "35c7676b-68c4-4d69-84a8-74e0c5313e34",
   "metadata": {},
   "outputs": [
    {
     "name": "stderr",
     "output_type": "stream",
     "text": [
      "/var/folders/16/4vbkj73s3qlb5w1xc7nxm92m0000gn/T/ipykernel_34639/3256280560.py:10: SettingWithCopyWarning: \n",
      "A value is trying to be set on a copy of a slice from a DataFrame.\n",
      "Try using .loc[row_indexer,col_indexer] = value instead\n",
      "\n",
      "See the caveats in the documentation: https://pandas.pydata.org/pandas-docs/stable/user_guide/indexing.html#returning-a-view-versus-a-copy\n",
      "  x[col] = x[col].astype('int')\n",
      "/var/folders/16/4vbkj73s3qlb5w1xc7nxm92m0000gn/T/ipykernel_34639/3256280560.py:8: SettingWithCopyWarning: \n",
      "A value is trying to be set on a copy of a slice from a DataFrame.\n",
      "Try using .loc[row_indexer,col_indexer] = value instead\n",
      "\n",
      "See the caveats in the documentation: https://pandas.pydata.org/pandas-docs/stable/user_guide/indexing.html#returning-a-view-versus-a-copy\n",
      "  x[col] = x[col].astype('float')\n",
      "/var/folders/16/4vbkj73s3qlb5w1xc7nxm92m0000gn/T/ipykernel_34639/3256280560.py:6: SettingWithCopyWarning: \n",
      "A value is trying to be set on a copy of a slice from a DataFrame.\n",
      "Try using .loc[row_indexer,col_indexer] = value instead\n",
      "\n",
      "See the caveats in the documentation: https://pandas.pydata.org/pandas-docs/stable/user_guide/indexing.html#returning-a-view-versus-a-copy\n",
      "  x[col] = x[col].astype('str')\n"
     ]
    }
   ],
   "source": [
    "x = training_set.loc[:, training_set.columns != 'is_applied']\n",
    "y = training_set.loc[:, training_set.columns == 'is_applied']\n",
    "\n",
    "for col in x:\n",
    "    if col == 'income_type' or col == 'employment_type' or col == 'houseown_type' or col == 'purpose':\n",
    "        x[col] = x[col].astype('str')\n",
    "    elif col == 'loan_rate':\n",
    "        x[col] = x[col].astype('float')\n",
    "    else:\n",
    "        x[col] = x[col].astype('int')"
   ]
  },
  {
   "cell_type": "code",
   "execution_count": 9,
   "id": "30c2f451-b26d-4e4e-8da2-7922740e8a1e",
   "metadata": {},
   "outputs": [],
   "source": [
    "x_dic = x.to_dict('records')"
   ]
  },
  {
   "cell_type": "code",
   "execution_count": 10,
   "id": "ae5e17d6-0431-4073-a5c1-9bf0b8405b35",
   "metadata": {},
   "outputs": [],
   "source": [
    "from sklearn.feature_extraction import DictVectorizer\n",
    "one_hot_encoder = DictVectorizer()\n",
    "onehot_X = one_hot_encoder.fit_transform(x_dic)"
   ]
  },
  {
   "cell_type": "code",
   "execution_count": 11,
   "id": "498e07f0-ca95-4708-a5d1-c1165aebe4fe",
   "metadata": {},
   "outputs": [
    {
     "name": "stdout",
     "output_type": "stream",
     "text": [
      "(7607193, 32)\n",
      "(7607193, 1)\n"
     ]
    }
   ],
   "source": [
    "print(onehot_X.shape)\n",
    "print(y.shape)"
   ]
  },
  {
   "cell_type": "code",
   "execution_count": null,
   "id": "11a0643d-3694-4403-8d5b-e4fbe6fb3381",
   "metadata": {},
   "outputs": [],
   "source": []
  },
  {
   "cell_type": "code",
   "execution_count": null,
   "id": "358fbdb9-1927-46ae-8ffa-ae9390632c42",
   "metadata": {},
   "outputs": [],
   "source": [
    "from sklearn.tree import DecisionTreeClassifier\n",
    "from sklearn.model_selection import GridSearchCV\n",
    "\n",
    "train_X, test_X = onehot_X[0 : 5000000], onehot_X[5000000:]\n",
    "train_Y, test_Y = y[0 : 5000000], y[5000000:]\n",
    "\n",
    "decision_tree = DecisionTreeClassifier(criterion = 'gini', min_samples_split=30)\n",
    "parameters = {'max_depth': [3, 10, None]}\n",
    "\n",
    "grid_search = GridSearchCV(decision_tree, parameters, cv=3, scoring='accuracy')\n",
    "\n",
    "grid_search.fit(train_X, train_Y)\n",
    "print(grid_search.best_params_)"
   ]
  },
  {
   "cell_type": "code",
   "execution_count": null,
   "id": "8466963f-64e1-42a2-937c-7cbf963f4fc8",
   "metadata": {},
   "outputs": [],
   "source": [
    "from sklearn.metrics import classification_report\n",
    "model_best = grid_search.best_estimator_\n",
    "prediction = model_best.predict(test_X)\n",
    "\n",
    "print(classification_report(test_Y, prediction))"
   ]
  }
 ],
 "metadata": {
  "kernelspec": {
   "display_name": "Python 3 (ipykernel)",
   "language": "python",
   "name": "python3"
  },
  "language_info": {
   "codemirror_mode": {
    "name": "ipython",
    "version": 3
   },
   "file_extension": ".py",
   "mimetype": "text/x-python",
   "name": "python",
   "nbconvert_exporter": "python",
   "pygments_lexer": "ipython3",
   "version": "3.9.13"
  }
 },
 "nbformat": 4,
 "nbformat_minor": 5
}
