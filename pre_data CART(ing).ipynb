{
 "cells": [
  {
   "cell_type": "code",
   "execution_count": 1,
   "id": "2ef7b308-b270-4b14-9927-c96a8873e81f",
   "metadata": {},
   "outputs": [],
   "source": [
    "import pandas as pd"
   ]
  },
  {
   "cell_type": "code",
   "execution_count": 2,
   "id": "0e13a549-d02e-4d5a-b4ba-7ddff6bb94d5",
   "metadata": {},
   "outputs": [],
   "source": [
    "merged = pd.read_csv('merge.csv')\n",
    "merged = merged.sort_values(by='application_id')"
   ]
  },
  {
   "cell_type": "code",
   "execution_count": 3,
   "id": "dc50e4d2-e90e-4d22-99b4-0ac5b2eea9db",
   "metadata": {},
   "outputs": [],
   "source": [
    "merged.loc[merged['loan_limit'] != merged['loan_limit'], 'loan_limit'] = merged['loan_limit'].mean()\n",
    "merged.loc[merged['loan_rate'] != merged['loan_rate'], 'loan_rate'] = merged['loan_rate'].mean()\n",
    "merged.loc[merged['credit_score'] != merged['credit_score'], 'credit_score'] = merged['credit_score'].mean()\n",
    "merged.loc[merged['personal_rehabilitation_yn'] != merged['personal_rehabilitation_yn'], 'personal_rehabilitation_yn'] = 0\n",
    "merged.loc[merged['personal_rehabilitation_complete_yn'] != merged['personal_rehabilitation_complete_yn'], 'personal_rehabilitation_complete_yn'] = 0\n",
    "merged.loc[merged['working_period'] != merged['working_period'], 'working_period'] = 0\n",
    "merged.loc[merged['existing_loan_cnt'] != merged['existing_loan_cnt'], 'existing_loan_cnt'] = 0"
   ]
  },
  {
   "cell_type": "code",
   "execution_count": 4,
   "id": "f0f8e825-28c2-4a34-8de2-955f31a1a6e8",
   "metadata": {},
   "outputs": [],
   "source": [
    "merged['tmp'] = merged['existing_loan_amt'] / merged['existing_loan_cnt']\n",
    "tmp_mean = merged['tmp'].mean()"
   ]
  },
  {
   "cell_type": "code",
   "execution_count": 5,
   "id": "348e02cb-13a2-409c-b9e7-09f47d379d5e",
   "metadata": {},
   "outputs": [],
   "source": [
    "merged.loc[merged['existing_loan_amt'] != merged['existing_loan_amt'], 'existing_loan_amt'] = tmp_mean"
   ]
  },
  {
   "cell_type": "code",
   "execution_count": 6,
   "id": "5396b01a-00f3-48fc-b990-7bf6e55d08b7",
   "metadata": {},
   "outputs": [],
   "source": [
    "merged = merged.drop(['bank_id', 'loanapply_insert_time', 'user_id', 'birth_year', 'gender', 'insert_time', 'tmp'],\n",
    "                       axis = 1)\n",
    "training_set = merged.dropna(subset=['is_applied'], axis=0)"
   ]
  },
  {
   "cell_type": "code",
   "execution_count": 8,
   "id": "35c7676b-68c4-4d69-84a8-74e0c5313e34",
   "metadata": {},
   "outputs": [
    {
     "name": "stderr",
     "output_type": "stream",
     "text": [
      "/var/folders/16/4vbkj73s3qlb5w1xc7nxm92m0000gn/T/ipykernel_39400/2073842526.py:10: SettingWithCopyWarning: \n",
      "A value is trying to be set on a copy of a slice from a DataFrame.\n",
      "Try using .loc[row_indexer,col_indexer] = value instead\n",
      "\n",
      "See the caveats in the documentation: https://pandas.pydata.org/pandas-docs/stable/user_guide/indexing.html#returning-a-view-versus-a-copy\n",
      "  x[col] = x[col].astype('int')\n",
      "/var/folders/16/4vbkj73s3qlb5w1xc7nxm92m0000gn/T/ipykernel_39400/2073842526.py:6: SettingWithCopyWarning: \n",
      "A value is trying to be set on a copy of a slice from a DataFrame.\n",
      "Try using .loc[row_indexer,col_indexer] = value instead\n",
      "\n",
      "See the caveats in the documentation: https://pandas.pydata.org/pandas-docs/stable/user_guide/indexing.html#returning-a-view-versus-a-copy\n",
      "  x[col] = x[col].astype('str')\n",
      "/var/folders/16/4vbkj73s3qlb5w1xc7nxm92m0000gn/T/ipykernel_39400/2073842526.py:8: SettingWithCopyWarning: \n",
      "A value is trying to be set on a copy of a slice from a DataFrame.\n",
      "Try using .loc[row_indexer,col_indexer] = value instead\n",
      "\n",
      "See the caveats in the documentation: https://pandas.pydata.org/pandas-docs/stable/user_guide/indexing.html#returning-a-view-versus-a-copy\n",
      "  x[col] = x[col].astype('float')\n"
     ]
    }
   ],
   "source": [
    "x = training_set[training_set.columns.difference(['is_applied', 'application_id', 'product_id'])]\n",
    "y = training_set.loc[:, training_set.columns == 'is_applied']\n",
    "\n",
    "for col in x:\n",
    "    if col == 'income_type' or col == 'employment_type' or col == 'houseown_type' or col == 'purpose':\n",
    "        x[col] = x[col].astype('str')\n",
    "    elif col == 'loan_rate':\n",
    "        x[col] = x[col].astype('float')\n",
    "    else:\n",
    "        x[col] = x[col].astype('int')"
   ]
  },
  {
   "cell_type": "code",
   "execution_count": 9,
   "id": "30c2f451-b26d-4e4e-8da2-7922740e8a1e",
   "metadata": {},
   "outputs": [],
   "source": [
    "x_dic = x.to_dict('records')"
   ]
  },
  {
   "cell_type": "code",
   "execution_count": 10,
   "id": "ae5e17d6-0431-4073-a5c1-9bf0b8405b35",
   "metadata": {},
   "outputs": [],
   "source": [
    "from sklearn.feature_extraction import DictVectorizer\n",
    "one_hot_encoder = DictVectorizer()\n",
    "onehot_X = one_hot_encoder.fit_transform(x_dic)"
   ]
  },
  {
   "cell_type": "code",
   "execution_count": 11,
   "id": "498e07f0-ca95-4708-a5d1-c1165aebe4fe",
   "metadata": {},
   "outputs": [
    {
     "name": "stdout",
     "output_type": "stream",
     "text": [
      "(10270011, 32)\n",
      "(10270011, 1)\n"
     ]
    }
   ],
   "source": [
    "print(onehot_X.shape)\n",
    "print(y.shape)"
   ]
  },
  {
   "cell_type": "code",
   "execution_count": 12,
   "id": "358fbdb9-1927-46ae-8ffa-ae9390632c42",
   "metadata": {},
   "outputs": [
    {
     "name": "stdout",
     "output_type": "stream",
     "text": [
      "{'max_depth': 10}\n",
      "CPU times: user 16min 48s, sys: 9.97 s, total: 16min 58s\n",
      "Wall time: 22min 44s\n"
     ]
    }
   ],
   "source": [
    "%%time\n",
    "from sklearn.tree import DecisionTreeClassifier\n",
    "from sklearn.model_selection import GridSearchCV\n",
    "\n",
    "train_X, test_X = onehot_X[0 : 6000000], onehot_X[6000000:]\n",
    "train_Y, test_Y = y[0 : 6000000], y[6000000:]\n",
    "\n",
    "decision_tree = DecisionTreeClassifier(criterion = 'gini', min_samples_split=30)\n",
    "parameters = {'max_depth': [3, 10, None]}\n",
    "\n",
    "grid_search = GridSearchCV(decision_tree, parameters, cv=3, scoring='accuracy')\n",
    "\n",
    "grid_search.fit(train_X, train_Y)\n",
    "print(grid_search.best_params_)"
   ]
  },
  {
   "cell_type": "code",
   "execution_count": 13,
   "id": "8466963f-64e1-42a2-937c-7cbf963f4fc8",
   "metadata": {},
   "outputs": [
    {
     "name": "stdout",
     "output_type": "stream",
     "text": [
      "              precision    recall  f1-score   support\n",
      "\n",
      "         0.0       0.95      1.00      0.97   4036232\n",
      "         1.0       0.53      0.02      0.04    233779\n",
      "\n",
      "    accuracy                           0.95   4270011\n",
      "   macro avg       0.74      0.51      0.50   4270011\n",
      "weighted avg       0.92      0.95      0.92   4270011\n",
      "\n"
     ]
    }
   ],
   "source": [
    "from sklearn.metrics import classification_report\n",
    "model_best = grid_search.best_estimator_\n",
    "prediction = model_best.predict(test_X)\n",
    "\n",
    "print(classification_report(test_Y, prediction))"
   ]
  },
  {
   "cell_type": "code",
   "execution_count": 14,
   "id": "d47f8ea2-fc99-4bff-992a-981ea4827f63",
   "metadata": {},
   "outputs": [],
   "source": [
    "import graphviz\n",
    "from sklearn.tree import export_graphviz\n",
    "import pydotplus\n",
    "import pydot\n",
    "from six import StringIO\n",
    "from IPython.core.display import Image"
   ]
  },
  {
   "cell_type": "code",
   "execution_count": 15,
   "id": "0b09c250-ae5b-45b4-bce2-9d084336249a",
   "metadata": {},
   "outputs": [],
   "source": [
    "export_graphviz(grid_search.best_estimator_, out_file=\"tree.dot\", class_names = ['not_applied', 'applied'],\n",
    "                feature_names = one_hot_encoder.get_feature_names_out(),\n",
    "                 impurity = True, filled=True)"
   ]
  },
  {
   "cell_type": "code",
   "execution_count": 16,
   "id": "b9ef0d63-0411-4cf9-9b59-d5ccb632eefc",
   "metadata": {},
   "outputs": [
    {
     "name": "stdout",
     "output_type": "stream",
     "text": [
      "dot: graph is too large for cairo-renderer bitmaps. Scaling by 0.1863 to fit\n",
      "\n"
     ]
    },
    {
     "data": {
      "text/plain": [
       "True"
      ]
     },
     "execution_count": 16,
     "metadata": {},
     "output_type": "execute_result"
    }
   ],
   "source": [
    "graph = pydotplus.graph_from_dot_file('tree.dot')\n",
    "graph.write_png('tree.png')"
   ]
  },
  {
   "cell_type": "code",
   "execution_count": 27,
   "id": "044090c4-f7c8-4e15-8a1e-4188bd9dc28b",
   "metadata": {},
   "outputs": [
    {
     "data": {
      "text/plain": [
       "application_id                               0\n",
       "product_id                                   0\n",
       "loan_limit                                   0\n",
       "loan_rate                                    0\n",
       "is_applied                             3257239\n",
       "credit_score                                 0\n",
       "yearly_income                                6\n",
       "income_type                                  0\n",
       "working_period                               0\n",
       "employment_type                              0\n",
       "houseown_type                                0\n",
       "desired_amount                               0\n",
       "purpose                                      0\n",
       "personal_rehabilitation_yn                   0\n",
       "personal_rehabilitation_complete_yn          0\n",
       "existing_loan_cnt                            0\n",
       "existing_loan_amt                            0\n",
       "dtype: int64"
      ]
     },
     "execution_count": 27,
     "metadata": {},
     "output_type": "execute_result"
    }
   ],
   "source": [
    "prediction_datas = merged[merged['is_applied'].isnull()]\n",
    "merged.isnull().sum()"
   ]
  },
  {
   "cell_type": "code",
   "execution_count": 29,
   "id": "318c96c8-dfcd-4f97-9949-6d62bc5c8d69",
   "metadata": {},
   "outputs": [
    {
     "name": "stderr",
     "output_type": "stream",
     "text": [
      "/var/folders/16/4vbkj73s3qlb5w1xc7nxm92m0000gn/T/ipykernel_39400/3597204490.py:9: SettingWithCopyWarning: \n",
      "A value is trying to be set on a copy of a slice from a DataFrame.\n",
      "Try using .loc[row_indexer,col_indexer] = value instead\n",
      "\n",
      "See the caveats in the documentation: https://pandas.pydata.org/pandas-docs/stable/user_guide/indexing.html#returning-a-view-versus-a-copy\n",
      "  pred_x[col] = pred_x[col].astype('int')\n",
      "/var/folders/16/4vbkj73s3qlb5w1xc7nxm92m0000gn/T/ipykernel_39400/3597204490.py:5: SettingWithCopyWarning: \n",
      "A value is trying to be set on a copy of a slice from a DataFrame.\n",
      "Try using .loc[row_indexer,col_indexer] = value instead\n",
      "\n",
      "See the caveats in the documentation: https://pandas.pydata.org/pandas-docs/stable/user_guide/indexing.html#returning-a-view-versus-a-copy\n",
      "  pred_x[col] = pred_x[col].astype('str')\n",
      "/var/folders/16/4vbkj73s3qlb5w1xc7nxm92m0000gn/T/ipykernel_39400/3597204490.py:7: SettingWithCopyWarning: \n",
      "A value is trying to be set on a copy of a slice from a DataFrame.\n",
      "Try using .loc[row_indexer,col_indexer] = value instead\n",
      "\n",
      "See the caveats in the documentation: https://pandas.pydata.org/pandas-docs/stable/user_guide/indexing.html#returning-a-view-versus-a-copy\n",
      "  pred_x[col] = pred_x[col].astype('float')\n"
     ]
    }
   ],
   "source": [
    "pred_x = prediction_datas[prediction_datas.columns.difference(['is_applied', 'application_id', 'product_id'])]\n",
    "pred_x.loc[pred_x['yearly_income'] != pred_x['yearly_income'], 'yearly_income'] = pred_x['yearly_income'].mean()\n",
    "for col in pred_x:\n",
    "    if col == 'income_type' or col == 'employment_type' or col == 'houseown_type' or col == 'purpose':\n",
    "        pred_x[col] = pred_x[col].astype('str')\n",
    "    elif col == 'loan_rate':\n",
    "        pred_x[col] = pred_x[col].astype('float')\n",
    "    else:\n",
    "        pred_x[col] = pred_x[col].astype('int')"
   ]
  },
  {
   "cell_type": "code",
   "execution_count": 30,
   "id": "847ff056-c36c-4e19-afba-9b9c53d96eae",
   "metadata": {},
   "outputs": [],
   "source": [
    "pred_dic = pred_x.to_dict('records')"
   ]
  },
  {
   "cell_type": "code",
   "execution_count": 31,
   "id": "3f99d2f3-98e1-4290-8026-3f237e5b3636",
   "metadata": {},
   "outputs": [],
   "source": [
    "one_hot_encoder = DictVectorizer()\n",
    "onehot_pred = one_hot_encoder.fit_transform(pred_dic)"
   ]
  },
  {
   "cell_type": "code",
   "execution_count": 32,
   "id": "c4fcde4f-ad09-4c9d-b878-3cd5ea701b22",
   "metadata": {},
   "outputs": [],
   "source": [
    "model_best = grid_search.best_estimator_\n",
    "preds = model_best.predict(onehot_pred)"
   ]
  },
  {
   "cell_type": "code",
   "execution_count": 37,
   "id": "5a20c544-5fa2-4b9a-967e-1198617f9270",
   "metadata": {},
   "outputs": [
    {
     "data": {
      "text/html": [
       "<div>\n",
       "<style scoped>\n",
       "    .dataframe tbody tr th:only-of-type {\n",
       "        vertical-align: middle;\n",
       "    }\n",
       "\n",
       "    .dataframe tbody tr th {\n",
       "        vertical-align: top;\n",
       "    }\n",
       "\n",
       "    .dataframe thead th {\n",
       "        text-align: right;\n",
       "    }\n",
       "</style>\n",
       "<table border=\"1\" class=\"dataframe\">\n",
       "  <thead>\n",
       "    <tr style=\"text-align: right;\">\n",
       "      <th></th>\n",
       "      <th>application_id</th>\n",
       "      <th>product_id</th>\n",
       "      <th>is_applied</th>\n",
       "    </tr>\n",
       "  </thead>\n",
       "  <tbody>\n",
       "    <tr>\n",
       "      <th>8367639</th>\n",
       "      <td>4</td>\n",
       "      <td>191</td>\n",
       "      <td>0.0</td>\n",
       "    </tr>\n",
       "    <tr>\n",
       "      <th>8367638</th>\n",
       "      <td>4</td>\n",
       "      <td>220</td>\n",
       "      <td>0.0</td>\n",
       "    </tr>\n",
       "    <tr>\n",
       "      <th>12740391</th>\n",
       "      <td>8</td>\n",
       "      <td>114</td>\n",
       "      <td>0.0</td>\n",
       "    </tr>\n",
       "    <tr>\n",
       "      <th>12740390</th>\n",
       "      <td>8</td>\n",
       "      <td>85</td>\n",
       "      <td>0.0</td>\n",
       "    </tr>\n",
       "    <tr>\n",
       "      <th>12740392</th>\n",
       "      <td>8</td>\n",
       "      <td>29</td>\n",
       "      <td>0.0</td>\n",
       "    </tr>\n",
       "    <tr>\n",
       "      <th>...</th>\n",
       "      <td>...</td>\n",
       "      <td>...</td>\n",
       "      <td>...</td>\n",
       "    </tr>\n",
       "    <tr>\n",
       "      <th>11875089</th>\n",
       "      <td>2167778</td>\n",
       "      <td>258</td>\n",
       "      <td>0.0</td>\n",
       "    </tr>\n",
       "    <tr>\n",
       "      <th>9041624</th>\n",
       "      <td>2167791</td>\n",
       "      <td>29</td>\n",
       "      <td>0.0</td>\n",
       "    </tr>\n",
       "    <tr>\n",
       "      <th>7136127</th>\n",
       "      <td>2167822</td>\n",
       "      <td>149</td>\n",
       "      <td>0.0</td>\n",
       "    </tr>\n",
       "    <tr>\n",
       "      <th>7136128</th>\n",
       "      <td>2167822</td>\n",
       "      <td>65</td>\n",
       "      <td>0.0</td>\n",
       "    </tr>\n",
       "    <tr>\n",
       "      <th>7136129</th>\n",
       "      <td>2167822</td>\n",
       "      <td>157</td>\n",
       "      <td>0.0</td>\n",
       "    </tr>\n",
       "  </tbody>\n",
       "</table>\n",
       "<p>3257239 rows × 3 columns</p>\n",
       "</div>"
      ],
      "text/plain": [
       "          application_id  product_id  is_applied\n",
       "8367639                4         191         0.0\n",
       "8367638                4         220         0.0\n",
       "12740391               8         114         0.0\n",
       "12740390               8          85         0.0\n",
       "12740392               8          29         0.0\n",
       "...                  ...         ...         ...\n",
       "11875089         2167778         258         0.0\n",
       "9041624          2167791          29         0.0\n",
       "7136127          2167822         149         0.0\n",
       "7136128          2167822          65         0.0\n",
       "7136129          2167822         157         0.0\n",
       "\n",
       "[3257239 rows x 3 columns]"
      ]
     },
     "execution_count": 37,
     "metadata": {},
     "output_type": "execute_result"
    }
   ],
   "source": [
    "prediction_datas = prediction_datas[['application_id', 'product_id', 'is_applied']]\n",
    "prediction_datas.loc[:, 'is_applied'] = preds\n",
    "prediction_datas"
   ]
  },
  {
   "cell_type": "code",
   "execution_count": 38,
   "id": "e8e04dcb-a3c7-46c3-815a-7dc04dde5672",
   "metadata": {},
   "outputs": [
    {
     "data": {
      "text/html": [
       "<div>\n",
       "<style scoped>\n",
       "    .dataframe tbody tr th:only-of-type {\n",
       "        vertical-align: middle;\n",
       "    }\n",
       "\n",
       "    .dataframe tbody tr th {\n",
       "        vertical-align: top;\n",
       "    }\n",
       "\n",
       "    .dataframe thead th {\n",
       "        text-align: right;\n",
       "    }\n",
       "</style>\n",
       "<table border=\"1\" class=\"dataframe\">\n",
       "  <thead>\n",
       "    <tr style=\"text-align: right;\">\n",
       "      <th></th>\n",
       "      <th>application_id</th>\n",
       "      <th>product_id</th>\n",
       "      <th>is_applied</th>\n",
       "    </tr>\n",
       "  </thead>\n",
       "  <tbody>\n",
       "    <tr>\n",
       "      <th>0</th>\n",
       "      <td>4</td>\n",
       "      <td>220</td>\n",
       "      <td>NaN</td>\n",
       "    </tr>\n",
       "    <tr>\n",
       "      <th>1</th>\n",
       "      <td>4</td>\n",
       "      <td>191</td>\n",
       "      <td>NaN</td>\n",
       "    </tr>\n",
       "    <tr>\n",
       "      <th>2</th>\n",
       "      <td>8</td>\n",
       "      <td>29</td>\n",
       "      <td>NaN</td>\n",
       "    </tr>\n",
       "    <tr>\n",
       "      <th>3</th>\n",
       "      <td>8</td>\n",
       "      <td>159</td>\n",
       "      <td>NaN</td>\n",
       "    </tr>\n",
       "    <tr>\n",
       "      <th>4</th>\n",
       "      <td>8</td>\n",
       "      <td>85</td>\n",
       "      <td>NaN</td>\n",
       "    </tr>\n",
       "    <tr>\n",
       "      <th>...</th>\n",
       "      <td>...</td>\n",
       "      <td>...</td>\n",
       "      <td>...</td>\n",
       "    </tr>\n",
       "    <tr>\n",
       "      <th>3255189</th>\n",
       "      <td>2167778</td>\n",
       "      <td>258</td>\n",
       "      <td>NaN</td>\n",
       "    </tr>\n",
       "    <tr>\n",
       "      <th>3255190</th>\n",
       "      <td>2167791</td>\n",
       "      <td>29</td>\n",
       "      <td>NaN</td>\n",
       "    </tr>\n",
       "    <tr>\n",
       "      <th>3255191</th>\n",
       "      <td>2167822</td>\n",
       "      <td>149</td>\n",
       "      <td>NaN</td>\n",
       "    </tr>\n",
       "    <tr>\n",
       "      <th>3255192</th>\n",
       "      <td>2167822</td>\n",
       "      <td>157</td>\n",
       "      <td>NaN</td>\n",
       "    </tr>\n",
       "    <tr>\n",
       "      <th>3255193</th>\n",
       "      <td>2167822</td>\n",
       "      <td>65</td>\n",
       "      <td>NaN</td>\n",
       "    </tr>\n",
       "  </tbody>\n",
       "</table>\n",
       "<p>3255194 rows × 3 columns</p>\n",
       "</div>"
      ],
      "text/plain": [
       "         application_id  product_id  is_applied\n",
       "0                     4         220         NaN\n",
       "1                     4         191         NaN\n",
       "2                     8          29         NaN\n",
       "3                     8         159         NaN\n",
       "4                     8          85         NaN\n",
       "...                 ...         ...         ...\n",
       "3255189         2167778         258         NaN\n",
       "3255190         2167791          29         NaN\n",
       "3255191         2167822         149         NaN\n",
       "3255192         2167822         157         NaN\n",
       "3255193         2167822          65         NaN\n",
       "\n",
       "[3255194 rows x 3 columns]"
      ]
     },
     "execution_count": 38,
     "metadata": {},
     "output_type": "execute_result"
    }
   ],
   "source": [
    "submission = pd.read_csv('submission.csv')\n",
    "submission"
   ]
  },
  {
   "cell_type": "code",
   "execution_count": 41,
   "id": "767de284-91e5-4f61-9ab8-509fff50e43b",
   "metadata": {},
   "outputs": [
    {
     "name": "stdout",
     "output_type": "stream",
     "text": [
      "<class 'pandas.core.frame.DataFrame'>\n",
      "Int64Index: 3257239 entries, 8367639 to 7136129\n",
      "Data columns (total 3 columns):\n",
      " #   Column          Dtype  \n",
      "---  ------          -----  \n",
      " 0   application_id  int64  \n",
      " 1   product_id      int64  \n",
      " 2   is_applied      float64\n",
      "dtypes: float64(1), int64(2)\n",
      "memory usage: 99.4 MB\n"
     ]
    }
   ],
   "source": [
    "prediction_datas.info()"
   ]
  },
  {
   "cell_type": "code",
   "execution_count": 42,
   "id": "4b31cdb7-8e4f-4e97-ae9f-c90b8cb3b065",
   "metadata": {},
   "outputs": [
    {
     "name": "stdout",
     "output_type": "stream",
     "text": [
      "0.0\n"
     ]
    }
   ],
   "source": [
    "result_dic = prediction_datas.to_dict('split')\n",
    "print(result_dic['data'][0][2])"
   ]
  },
  {
   "cell_type": "code",
   "execution_count": 46,
   "id": "451b2421-3886-4567-b98f-287a8ef02f70",
   "metadata": {},
   "outputs": [
    {
     "name": "stdout",
     "output_type": "stream",
     "text": [
      "CPU times: user 1min 1s, sys: 639 ms, total: 1min 2s\n",
      "Wall time: 1min 2s\n"
     ]
    }
   ],
   "source": [
    "%%time\n",
    "dic = {}\n",
    "for i in prediction_datas.index:\n",
    "    key = (prediction_datas.loc[i, 'application_id'], prediction_datas.loc[i, 'product_id'])\n",
    "    val = prediction_datas.loc[i, 'is_applied']\n",
    "    dic[key] = val"
   ]
  },
  {
   "cell_type": "code",
   "execution_count": 47,
   "id": "aff58db9-aefd-42d1-a31e-daca88a8d7f8",
   "metadata": {},
   "outputs": [
    {
     "name": "stdout",
     "output_type": "stream",
     "text": [
      "0.0\n"
     ]
    }
   ],
   "source": [
    "print(dic[(4, 191)])"
   ]
  },
  {
   "cell_type": "code",
   "execution_count": 48,
   "id": "907875fe-e98f-4278-90e4-c764db2cefcc",
   "metadata": {},
   "outputs": [],
   "source": [
    "def fill_applied(submission):\n",
    "    app_id = submission.application_id\n",
    "    prod_id = submission.product_id\n",
    "    \n",
    "    is_app = dic[(app_id, prod_id)]\n",
    "    \n",
    "    return pd.Series([is_app])"
   ]
  },
  {
   "cell_type": "code",
   "execution_count": 50,
   "id": "372c85b5-d50e-42cc-b760-2013a3d096dc",
   "metadata": {},
   "outputs": [
    {
     "name": "stdout",
     "output_type": "stream",
     "text": [
      "CPU times: user 2min 23s, sys: 520 ms, total: 2min 24s\n",
      "Wall time: 2min 24s\n"
     ]
    },
    {
     "data": {
      "text/html": [
       "<div>\n",
       "<style scoped>\n",
       "    .dataframe tbody tr th:only-of-type {\n",
       "        vertical-align: middle;\n",
       "    }\n",
       "\n",
       "    .dataframe tbody tr th {\n",
       "        vertical-align: top;\n",
       "    }\n",
       "\n",
       "    .dataframe thead th {\n",
       "        text-align: right;\n",
       "    }\n",
       "</style>\n",
       "<table border=\"1\" class=\"dataframe\">\n",
       "  <thead>\n",
       "    <tr style=\"text-align: right;\">\n",
       "      <th></th>\n",
       "      <th>application_id</th>\n",
       "      <th>product_id</th>\n",
       "      <th>is_applied</th>\n",
       "    </tr>\n",
       "  </thead>\n",
       "  <tbody>\n",
       "    <tr>\n",
       "      <th>0</th>\n",
       "      <td>4</td>\n",
       "      <td>220</td>\n",
       "      <td>0.0</td>\n",
       "    </tr>\n",
       "    <tr>\n",
       "      <th>1</th>\n",
       "      <td>4</td>\n",
       "      <td>191</td>\n",
       "      <td>0.0</td>\n",
       "    </tr>\n",
       "    <tr>\n",
       "      <th>2</th>\n",
       "      <td>8</td>\n",
       "      <td>29</td>\n",
       "      <td>0.0</td>\n",
       "    </tr>\n",
       "    <tr>\n",
       "      <th>3</th>\n",
       "      <td>8</td>\n",
       "      <td>159</td>\n",
       "      <td>0.0</td>\n",
       "    </tr>\n",
       "    <tr>\n",
       "      <th>4</th>\n",
       "      <td>8</td>\n",
       "      <td>85</td>\n",
       "      <td>0.0</td>\n",
       "    </tr>\n",
       "    <tr>\n",
       "      <th>...</th>\n",
       "      <td>...</td>\n",
       "      <td>...</td>\n",
       "      <td>...</td>\n",
       "    </tr>\n",
       "    <tr>\n",
       "      <th>3255189</th>\n",
       "      <td>2167778</td>\n",
       "      <td>258</td>\n",
       "      <td>0.0</td>\n",
       "    </tr>\n",
       "    <tr>\n",
       "      <th>3255190</th>\n",
       "      <td>2167791</td>\n",
       "      <td>29</td>\n",
       "      <td>0.0</td>\n",
       "    </tr>\n",
       "    <tr>\n",
       "      <th>3255191</th>\n",
       "      <td>2167822</td>\n",
       "      <td>149</td>\n",
       "      <td>0.0</td>\n",
       "    </tr>\n",
       "    <tr>\n",
       "      <th>3255192</th>\n",
       "      <td>2167822</td>\n",
       "      <td>157</td>\n",
       "      <td>0.0</td>\n",
       "    </tr>\n",
       "    <tr>\n",
       "      <th>3255193</th>\n",
       "      <td>2167822</td>\n",
       "      <td>65</td>\n",
       "      <td>0.0</td>\n",
       "    </tr>\n",
       "  </tbody>\n",
       "</table>\n",
       "<p>3255194 rows × 3 columns</p>\n",
       "</div>"
      ],
      "text/plain": [
       "         application_id  product_id  is_applied\n",
       "0                     4         220         0.0\n",
       "1                     4         191         0.0\n",
       "2                     8          29         0.0\n",
       "3                     8         159         0.0\n",
       "4                     8          85         0.0\n",
       "...                 ...         ...         ...\n",
       "3255189         2167778         258         0.0\n",
       "3255190         2167791          29         0.0\n",
       "3255191         2167822         149         0.0\n",
       "3255192         2167822         157         0.0\n",
       "3255193         2167822          65         0.0\n",
       "\n",
       "[3255194 rows x 3 columns]"
      ]
     },
     "execution_count": 50,
     "metadata": {},
     "output_type": "execute_result"
    }
   ],
   "source": [
    "%%time\n",
    "for i in submission.index:\n",
    "    key = (submission.loc[i, 'application_id'], submission.loc[i, 'product_id'])\n",
    "    submission.loc[i, 'is_applied'] = dic[key]\n",
    "\n",
    "submission"
   ]
  },
  {
   "cell_type": "code",
   "execution_count": 51,
   "id": "230f5f14-fd91-42c8-9bed-9b1b34b8620d",
   "metadata": {},
   "outputs": [],
   "source": [
    "submission.to_csv(\"done.csv\", index=False)"
   ]
  },
  {
   "cell_type": "code",
   "execution_count": null,
   "id": "f1b3ea78-80da-4edc-a835-3937050627f4",
   "metadata": {},
   "outputs": [],
   "source": []
  }
 ],
 "metadata": {
  "kernelspec": {
   "display_name": "Python 3 (ipykernel)",
   "language": "python",
   "name": "python3"
  },
  "language_info": {
   "codemirror_mode": {
    "name": "ipython",
    "version": 3
   },
   "file_extension": ".py",
   "mimetype": "text/x-python",
   "name": "python",
   "nbconvert_exporter": "python",
   "pygments_lexer": "ipython3",
   "version": "3.9.13"
  }
 },
 "nbformat": 4,
 "nbformat_minor": 5
}
