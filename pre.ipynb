{
 "cells": [
  {
   "cell_type": "code",
   "execution_count": 1,
   "id": "79cbad0e-370e-4931-8d44-8ce3aa9f71c9",
   "metadata": {},
   "outputs": [],
   "source": [
    "import numpy as np\n",
    "import pandas as pd\n",
    "import matplotlib.pyplot as plt\n",
    "import seaborn as sns\n",
    "import math\n",
    "\n",
    "from matplotlib import font_manager, rc\n",
    "font_path = \"BMJUA_ttf.ttf\"\n",
    "font = font_manager.FontProperties(fname=font_path).get_name()\n",
    "rc('font', family=font)\n",
    "plt.rc('axes', unicode_minus=False)"
   ]
  },
  {
   "cell_type": "code",
   "execution_count": 2,
   "id": "aba9b49c-cc31-4e6c-a2c6-bc053540b935",
   "metadata": {},
   "outputs": [],
   "source": [
    "spec = pd.read_csv(\"user_spec.csv\")\n",
    "result = pd.read_csv(\"loan_result.csv\")"
   ]
  },
  {
   "cell_type": "code",
   "execution_count": 3,
   "id": "b821f91c-bf0a-47d7-b2c0-126ec56d657b",
   "metadata": {},
   "outputs": [],
   "source": [
    "merge = pd.merge(result, spec, right_on=\"application_id\", left_on=\"application_id\")"
   ]
  },
  {
   "cell_type": "code",
   "execution_count": 4,
   "id": "fa400219-3549-4741-9e7e-18fc292bf3e1",
   "metadata": {},
   "outputs": [
    {
     "name": "stdout",
     "output_type": "stream",
     "text": [
      "<class 'pandas.core.frame.DataFrame'>\n",
      "Int64Index: 13527250 entries, 0 to 13527249\n",
      "Data columns (total 23 columns):\n",
      " #   Column                               Dtype  \n",
      "---  ------                               -----  \n",
      " 0   application_id                       int64  \n",
      " 1   loanapply_insert_time                object \n",
      " 2   bank_id                              int64  \n",
      " 3   product_id                           int64  \n",
      " 4   loan_limit                           float64\n",
      " 5   loan_rate                            float64\n",
      " 6   is_applied                           float64\n",
      " 7   user_id                              int64  \n",
      " 8   birth_year                           float64\n",
      " 9   gender                               float64\n",
      " 10  insert_time                          object \n",
      " 11  credit_score                         float64\n",
      " 12  yearly_income                        float64\n",
      " 13  income_type                          object \n",
      " 14  company_enter_month                  float64\n",
      " 15  employment_type                      object \n",
      " 16  houseown_type                        object \n",
      " 17  desired_amount                       float64\n",
      " 18  purpose                              object \n",
      " 19  personal_rehabilitation_yn           float64\n",
      " 20  personal_rehabilitation_complete_yn  float64\n",
      " 21  existing_loan_cnt                    float64\n",
      " 22  existing_loan_amt                    float64\n",
      "dtypes: float64(13), int64(4), object(6)\n",
      "memory usage: 2.4+ GB\n"
     ]
    }
   ],
   "source": [
    "merge.info()"
   ]
  },
  {
   "cell_type": "code",
   "execution_count": 5,
   "id": "79b26b7f-4cf8-4da6-881d-8d019d402a4f",
   "metadata": {},
   "outputs": [
    {
     "data": {
      "text/plain": [
       "application_id                                0\n",
       "loanapply_insert_time                         0\n",
       "bank_id                                       0\n",
       "product_id                                    0\n",
       "loan_limit                                 7382\n",
       "loan_rate                                  7382\n",
       "is_applied                              3257239\n",
       "user_id                                       0\n",
       "birth_year                               128096\n",
       "gender                                   128096\n",
       "insert_time                                   0\n",
       "credit_score                            1509276\n",
       "yearly_income                                 6\n",
       "income_type                                   0\n",
       "company_enter_month                      400337\n",
       "employment_type                               0\n",
       "houseown_type                                 0\n",
       "desired_amount                                0\n",
       "purpose                                       0\n",
       "personal_rehabilitation_yn              5888701\n",
       "personal_rehabilitation_complete_yn    11793977\n",
       "existing_loan_cnt                       2685709\n",
       "existing_loan_amt                       3890163\n",
       "dtype: int64"
      ]
     },
     "execution_count": 5,
     "metadata": {},
     "output_type": "execute_result"
    }
   ],
   "source": [
    "merge.isnull().sum()"
   ]
  },
  {
   "cell_type": "code",
   "execution_count": null,
   "id": "79aaf0d3-9da0-43b5-be27-50b8db594d2d",
   "metadata": {},
   "outputs": [],
   "source": []
  },
  {
   "cell_type": "code",
   "execution_count": 6,
   "id": "e2cf8058-07ea-4f85-af00-4a79ea678121",
   "metadata": {},
   "outputs": [],
   "source": [
    "def convert_purpose(data):\n",
    "    if data == \"생활비\" or data == \"LIVING\":\n",
    "        return 1\n",
    "    elif data == \"대환대출\" or data == \"SWITCHLOAN\":\n",
    "        return 2\n",
    "    elif data == \"주택구입\" or data == \"BUYHOUSE\":\n",
    "        return 3\n",
    "    elif data == \"전월세보증금\" or data == \"HOUSEDEPOSIT\":\n",
    "        return 4\n",
    "    elif data == \"사업자금\" or data == \"BUSINESS\":\n",
    "        return 5\n",
    "    elif data == \"투자\" or data == \"INVEST\":\n",
    "        return 6\n",
    "    elif data == \"자동차구입\" or data == \"BUYCAR\":\n",
    "        return 7\n",
    "    elif data == \"기타\" or data == \"ETC\":\n",
    "        return 0"
   ]
  },
  {
   "cell_type": "code",
   "execution_count": 7,
   "id": "79103a7e-daf5-42c2-ba6f-e8431cd9538b",
   "metadata": {},
   "outputs": [
    {
     "data": {
      "text/plain": [
       "생활비             6828706\n",
       "대환대출            4073362\n",
       "주택구입             569679\n",
       "전월세보증금           569284\n",
       "사업자금             551570\n",
       "기타               400084\n",
       "투자               285670\n",
       "LIVING           107532\n",
       "자동차구입             58571\n",
       "SWITCHLOAN        33615\n",
       "HOUSEDEPOSIT      15912\n",
       "BUYHOUSE          10989\n",
       "BUSINESS           8513\n",
       "ETC                7374\n",
       "INVEST             3634\n",
       "BUYCAR             2755\n",
       "Name: purpose, dtype: int64"
      ]
     },
     "execution_count": 7,
     "metadata": {},
     "output_type": "execute_result"
    }
   ],
   "source": [
    "merge['purpose'].value_counts()"
   ]
  },
  {
   "cell_type": "code",
   "execution_count": 8,
   "id": "4f54bb43-4980-4074-ac90-7e4ec53b7a3c",
   "metadata": {},
   "outputs": [],
   "source": [
    "merge['purpose'] = merge['purpose'].apply(convert_purpose)\n",
    "merge_df = pd.get_dummies(data = merge, columns = ['purpose'], prefix = 'purpose')"
   ]
  },
  {
   "cell_type": "code",
   "execution_count": 9,
   "id": "aa2e07ac-621a-4222-aeb8-101d036434d5",
   "metadata": {},
   "outputs": [],
   "source": [
    "def convert_house(data):\n",
    "    if data == \"전월세\":\n",
    "        return 1\n",
    "    elif data == \"자가\":\n",
    "        return 2\n",
    "    elif data == \"배우자\":\n",
    "        return 3\n",
    "    elif data == \"기타가족소유\":\n",
    "        return 0"
   ]
  },
  {
   "cell_type": "code",
   "execution_count": 10,
   "id": "563eebea-4b36-4fc1-bf33-b592eda0741f",
   "metadata": {},
   "outputs": [
    {
     "data": {
      "text/plain": [
       "전월세       6024282\n",
       "자가        3817266\n",
       "기타가족소유    3672900\n",
       "배우자         12802\n",
       "Name: houseown_type, dtype: int64"
      ]
     },
     "execution_count": 10,
     "metadata": {},
     "output_type": "execute_result"
    }
   ],
   "source": [
    "merge_df['houseown_type'].value_counts()"
   ]
  },
  {
   "cell_type": "code",
   "execution_count": 11,
   "id": "ec8d77d2-6f8b-495f-bb02-480fdc8a4f0d",
   "metadata": {},
   "outputs": [],
   "source": [
    "merge_df['houseown_type'] = merge_df['houseown_type'].apply(convert_house)\n",
    "merge_df = pd.get_dummies(data = merge_df, columns = ['houseown_type'], prefix = 'houseown_type')"
   ]
  },
  {
   "cell_type": "code",
   "execution_count": 12,
   "id": "010c212b-10bb-4218-8422-9f099a9b038e",
   "metadata": {},
   "outputs": [],
   "source": [
    "def convert_income(data):\n",
    "    if data == \"EARNEDINCOME\":\n",
    "        return 1\n",
    "    elif data == \"EARNEDINCOME2\":\n",
    "        return 2\n",
    "    elif data == \"PRIVATEBUSINESS\":\n",
    "        return 3\n",
    "    elif data == \"FREELANCER\":\n",
    "        return 4\n",
    "    elif data == \"PRACTITIONER\":\n",
    "        return 5\n",
    "    elif data == \"OTHERINCOME\":\n",
    "        return 0"
   ]
  },
  {
   "cell_type": "code",
   "execution_count": 13,
   "id": "c56eaf54-dde2-4a05-b540-3c15e10f3a90",
   "metadata": {},
   "outputs": [
    {
     "data": {
      "text/plain": [
       "EARNEDINCOME       11467245\n",
       "EARNEDINCOME2        564602\n",
       "PRIVATEBUSINESS      494237\n",
       "OTHERINCOME          402850\n",
       "FREELANCER           312935\n",
       "PRACTITIONER         285381\n",
       "Name: income_type, dtype: int64"
      ]
     },
     "execution_count": 13,
     "metadata": {},
     "output_type": "execute_result"
    }
   ],
   "source": [
    "merge_df['income_type'].value_counts()"
   ]
  },
  {
   "cell_type": "code",
   "execution_count": 14,
   "id": "908b8703-0a1b-4e8d-b79e-1cbd8c6f3bdf",
   "metadata": {},
   "outputs": [],
   "source": [
    "#merge['houseown_type'] = merge['houseown_type'].apply(convert_house)\n",
    "merge_df = pd.get_dummies(data = merge_df, columns = ['income_type'], prefix = 'income_type')"
   ]
  },
  {
   "cell_type": "code",
   "execution_count": 15,
   "id": "06f9e61a-66c5-4f71-9f73-85e3b56b2c51",
   "metadata": {},
   "outputs": [
    {
     "data": {
      "image/png": "[encoded data removed]",
      "text/plain": [
       "<Figure size 432x288 with 1 Axes>"
      ]
     },
     "metadata": {},
     "output_type": "display_data"
    }
   ],
   "source": [
    "merge['houseown_type'].value_counts().plot(kind='pie')\n",
    "plt.show()"
   ]
  },
  {
   "cell_type": "code",
   "execution_count": 16,
   "id": "ca61f208-649e-4ade-95dc-c33bf34f9f45",
   "metadata": {},
   "outputs": [
    {
     "data": {
      "image/png": "[encoded data removed]",
      "text/plain": [
       "<Figure size 432x288 with 1 Axes>"
      ]
     },
     "metadata": {},
     "output_type": "display_data"
    }
   ],
   "source": [
    "merge['purpose'].value_counts().plot(kind='pie')\n",
    "plt.show()"
   ]
  },
  {
   "cell_type": "code",
   "execution_count": 17,
   "id": "30f9d3be-e66c-4c73-9402-4df67a3cca24",
   "metadata": {},
   "outputs": [
    {
     "data": {
      "image/png": "[encoded data removed]",
      "text/plain": [
       "<Figure size 432x288 with 1 Axes>"
      ]
     },
     "metadata": {
      "needs_background": "light"
     },
     "output_type": "display_data"
    }
   ],
   "source": [
    "grape_df = merge.groupby(['purpose','is_applied'])['is_applied'].count().unstack('is_applied')\n",
    "grape_df.plot()\n",
    "plt.title('purpose')\n",
    "plt.show()"
   ]
  },
  {
   "cell_type": "code",
   "execution_count": 18,
   "id": "99c18739-6836-424a-8d9b-2fb37e4dfeeb",
   "metadata": {},
   "outputs": [
    {
     "data": {
      "image/png": "[encoded data removed]",
      "text/plain": [
       "<Figure size 432x288 with 1 Axes>"
      ]
     },
     "metadata": {
      "needs_background": "light"
     },
     "output_type": "display_data"
    }
   ],
   "source": [
    "grape_df = merge.groupby(['houseown_type','is_applied'])['is_applied'].count().unstack('is_applied')\n",
    "grape_df.plot(kind='bar')\n",
    "plt.title('houseown_type')\n",
    "plt.show()"
   ]
  },
  {
   "cell_type": "code",
   "execution_count": 19,
   "id": "f6487436-2557-4551-9a98-40e43c21fd71",
   "metadata": {},
   "outputs": [
    {
     "data": {
      "image/png": "[encoded data removed]",
      "text/plain": [
       "<Figure size 432x288 with 1 Axes>"
      ]
     },
     "metadata": {
      "needs_background": "light"
     },
     "output_type": "display_data"
    }
   ],
   "source": [
    "grape_df = merge.groupby(['gender','is_applied'])['is_applied'].count().unstack('is_applied')\n",
    "grape_df.plot(kind='bar')\n",
    "plt.title('gender')\n",
    "plt.show()"
   ]
  },
  {
   "cell_type": "code",
   "execution_count": 20,
   "id": "b55f220a-4a68-4547-91cc-6054bfc1449d",
   "metadata": {},
   "outputs": [
    {
     "data": {
      "text/plain": [
       "\"\\nx = merge['credit_score'].values\\n\\nsns.kdeplot(x)\\nplt.title('신용점수')\\nplt.show()\\n\""
      ]
     },
     "execution_count": 20,
     "metadata": {},
     "output_type": "execute_result"
    }
   ],
   "source": [
    "'''\n",
    "x = merge['credit_score'].values\n",
    "\n",
    "sns.kdeplot(x)\n",
    "plt.title('신용점수')\n",
    "plt.show()\n",
    "'''"
   ]
  },
  {
   "cell_type": "code",
   "execution_count": 21,
   "id": "4e2e63a9-09c6-4390-82f1-e6ef2acf995c",
   "metadata": {},
   "outputs": [],
   "source": [
    "#merge.corr()"
   ]
  },
  {
   "cell_type": "code",
   "execution_count": 22,
   "id": "fff654ac-eda7-40d4-bc65-7e57130cb2c5",
   "metadata": {},
   "outputs": [
    {
     "data": {
      "text/plain": [
       "'\\ncol_names = [\"is_applied\", \"loan_limit\",\"loan_rate\",\"credit_score\",\"yearly_income\",\"company_enter_month\",\"desired_amount\",\"existing_loan_cnt\",\"existing_loan_amt\"]\\ncorr = merge[col_names].corr()\\nplt.figure(figsize=(19, 19))\\nsns.heatmap(data=corr.values, annot=True, fmt=\\'.2f\\', linewidth=.5, cmap=\\'Blues\\')\\n'"
      ]
     },
     "execution_count": 22,
     "metadata": {},
     "output_type": "execute_result"
    }
   ],
   "source": [
    "'''\n",
    "col_names = [\"is_applied\", \"loan_limit\",\"loan_rate\",\"credit_score\",\"yearly_income\",\"company_enter_month\",\"desired_amount\",\"existing_loan_cnt\",\"existing_loan_amt\"]\n",
    "corr = merge[col_names].corr()\n",
    "plt.figure(figsize=(19, 19))\n",
    "sns.heatmap(data=corr.values, annot=True, fmt='.2f', linewidth=.5, cmap='Blues')\n",
    "'''"
   ]
  },
  {
   "cell_type": "code",
   "execution_count": 23,
   "id": "32ee35f0-78c9-47c3-8e86-a680597cf372",
   "metadata": {},
   "outputs": [],
   "source": [
    "merge_df.loc[merge_df['company_enter_month'] > 10000000, 'company_enter_month'] = round(merge_df['company_enter_month']/100)"
   ]
  },
  {
   "cell_type": "code",
   "execution_count": 24,
   "id": "ef82081e-ddad-474f-aa66-d527902d04aa",
   "metadata": {},
   "outputs": [
    {
     "data": {
      "text/plain": [
       "202201.0    517411\n",
       "202112.0    419945\n",
       "202111.0    411403\n",
       "202110.0    383568\n",
       "202202.0    336795\n",
       "             ...  \n",
       "191601.0         1\n",
       "198402.0         1\n",
       "197910.0         1\n",
       "197701.0         1\n",
       "198311.0         1\n",
       "Name: company_enter_month, Length: 534, dtype: int64"
      ]
     },
     "execution_count": 24,
     "metadata": {},
     "output_type": "execute_result"
    }
   ],
   "source": [
    "merge_df['company_enter_month'].value_counts()"
   ]
  },
  {
   "cell_type": "code",
   "execution_count": 25,
   "id": "e34e379d-151b-4844-b98c-b3579a576aef",
   "metadata": {},
   "outputs": [],
   "source": [
    "def date_to_num(x):\n",
    "  if str(x).find(\"-\") != -1 :\n",
    "    return str(x).split(\"-\")[0] + str(x).split(\"-\")[1]\n",
    "  return str(x)"
   ]
  },
  {
   "cell_type": "code",
   "execution_count": 26,
   "id": "9d3642c9-0d13-4f44-b530-0a266c93dbd3",
   "metadata": {},
   "outputs": [
    {
     "data": {
      "text/plain": [
       "202205    3579966\n",
       "202204    3427278\n",
       "202203    3262767\n",
       "202206    3257239\n",
       "Name: loanapply_insert_time, dtype: int64"
      ]
     },
     "execution_count": 26,
     "metadata": {},
     "output_type": "execute_result"
    }
   ],
   "source": [
    "merge_df['loanapply_insert_time'] = merge_df['loanapply_insert_time'].apply(date_to_num)\n",
    "merge_df['loanapply_insert_time'].value_counts()"
   ]
  },
  {
   "cell_type": "code",
   "execution_count": 27,
   "id": "c82067f8-381b-46d1-af74-0f6fbfc6f2ab",
   "metadata": {},
   "outputs": [],
   "source": [
    "def year_to_mon(x, y):\n",
    "    return ((round(pd.to_numeric(y)/100 - x/100))*12 + (pd.to_numeric(y)%100 - x%100))"
   ]
  },
  {
   "cell_type": "code",
   "execution_count": 28,
   "id": "f0d42560-ee68-4a53-be41-9ebb2c348942",
   "metadata": {},
   "outputs": [],
   "source": [
    "merge_df['company_enter_month'] = year_to_mon(merge_df['company_enter_month'], merge_df['loanapply_insert_time'])"
   ]
  },
  {
   "cell_type": "code",
   "execution_count": 29,
   "id": "23c7a351-a429-4758-9d61-5ef891fdcd26",
   "metadata": {},
   "outputs": [
    {
     "data": {
      "text/plain": [
       "3.0       548457\n",
       "4.0       492949\n",
       "5.0       414369\n",
       "6.0       410796\n",
       "7.0       353092\n",
       "           ...  \n",
       "470.0          1\n",
       "1275.0         1\n",
       "521.0          1\n",
       "510.0          1\n",
       "545.0          1\n",
       "Name: company_enter_month, Length: 542, dtype: int64"
      ]
     },
     "execution_count": 29,
     "metadata": {},
     "output_type": "execute_result"
    }
   ],
   "source": [
    "merge_df['company_enter_month'].value_counts()"
   ]
  },
  {
   "cell_type": "code",
   "execution_count": 30,
   "id": "d4d7afde-ff17-4c2a-a254-c54f041c749d",
   "metadata": {},
   "outputs": [
    {
     "data": {
      "text/html": [
       "<div>\n",
       "<style scoped>\n",
       "    .dataframe tbody tr th:only-of-type {\n",
       "        vertical-align: middle;\n",
       "    }\n",
       "\n",
       "    .dataframe tbody tr th {\n",
       "        vertical-align: top;\n",
       "    }\n",
       "\n",
       "    .dataframe thead th {\n",
       "        text-align: right;\n",
       "    }\n",
       "</style>\n",
       "<table border=\"1\" class=\"dataframe\">\n",
       "  <thead>\n",
       "    <tr style=\"text-align: right;\">\n",
       "      <th></th>\n",
       "      <th>application_id</th>\n",
       "      <th>loanapply_insert_time</th>\n",
       "      <th>bank_id</th>\n",
       "      <th>product_id</th>\n",
       "      <th>loan_limit</th>\n",
       "      <th>loan_rate</th>\n",
       "      <th>is_applied</th>\n",
       "      <th>user_id</th>\n",
       "      <th>birth_year</th>\n",
       "      <th>gender</th>\n",
       "      <th>...</th>\n",
       "      <th>houseown_type_0</th>\n",
       "      <th>houseown_type_1</th>\n",
       "      <th>houseown_type_2</th>\n",
       "      <th>houseown_type_3</th>\n",
       "      <th>income_type_EARNEDINCOME</th>\n",
       "      <th>income_type_EARNEDINCOME2</th>\n",
       "      <th>income_type_FREELANCER</th>\n",
       "      <th>income_type_OTHERINCOME</th>\n",
       "      <th>income_type_PRACTITIONER</th>\n",
       "      <th>income_type_PRIVATEBUSINESS</th>\n",
       "    </tr>\n",
       "  </thead>\n",
       "  <tbody>\n",
       "    <tr>\n",
       "      <th>0</th>\n",
       "      <td>1748340</td>\n",
       "      <td>202206</td>\n",
       "      <td>7</td>\n",
       "      <td>191</td>\n",
       "      <td>42000000.0</td>\n",
       "      <td>13.6</td>\n",
       "      <td>NaN</td>\n",
       "      <td>430982</td>\n",
       "      <td>1996.0</td>\n",
       "      <td>1.0</td>\n",
       "      <td>...</td>\n",
       "      <td>0</td>\n",
       "      <td>0</td>\n",
       "      <td>1</td>\n",
       "      <td>0</td>\n",
       "      <td>1</td>\n",
       "      <td>0</td>\n",
       "      <td>0</td>\n",
       "      <td>0</td>\n",
       "      <td>0</td>\n",
       "      <td>0</td>\n",
       "    </tr>\n",
       "    <tr>\n",
       "      <th>1</th>\n",
       "      <td>1748340</td>\n",
       "      <td>202206</td>\n",
       "      <td>25</td>\n",
       "      <td>169</td>\n",
       "      <td>24000000.0</td>\n",
       "      <td>17.9</td>\n",
       "      <td>NaN</td>\n",
       "      <td>430982</td>\n",
       "      <td>1996.0</td>\n",
       "      <td>1.0</td>\n",
       "      <td>...</td>\n",
       "      <td>0</td>\n",
       "      <td>0</td>\n",
       "      <td>1</td>\n",
       "      <td>0</td>\n",
       "      <td>1</td>\n",
       "      <td>0</td>\n",
       "      <td>0</td>\n",
       "      <td>0</td>\n",
       "      <td>0</td>\n",
       "      <td>0</td>\n",
       "    </tr>\n",
       "    <tr>\n",
       "      <th>2</th>\n",
       "      <td>1748340</td>\n",
       "      <td>202206</td>\n",
       "      <td>2</td>\n",
       "      <td>7</td>\n",
       "      <td>24000000.0</td>\n",
       "      <td>18.5</td>\n",
       "      <td>NaN</td>\n",
       "      <td>430982</td>\n",
       "      <td>1996.0</td>\n",
       "      <td>1.0</td>\n",
       "      <td>...</td>\n",
       "      <td>0</td>\n",
       "      <td>0</td>\n",
       "      <td>1</td>\n",
       "      <td>0</td>\n",
       "      <td>1</td>\n",
       "      <td>0</td>\n",
       "      <td>0</td>\n",
       "      <td>0</td>\n",
       "      <td>0</td>\n",
       "      <td>0</td>\n",
       "    </tr>\n",
       "    <tr>\n",
       "      <th>3</th>\n",
       "      <td>1748340</td>\n",
       "      <td>202206</td>\n",
       "      <td>4</td>\n",
       "      <td>268</td>\n",
       "      <td>29000000.0</td>\n",
       "      <td>10.8</td>\n",
       "      <td>NaN</td>\n",
       "      <td>430982</td>\n",
       "      <td>1996.0</td>\n",
       "      <td>1.0</td>\n",
       "      <td>...</td>\n",
       "      <td>0</td>\n",
       "      <td>0</td>\n",
       "      <td>1</td>\n",
       "      <td>0</td>\n",
       "      <td>1</td>\n",
       "      <td>0</td>\n",
       "      <td>0</td>\n",
       "      <td>0</td>\n",
       "      <td>0</td>\n",
       "      <td>0</td>\n",
       "    </tr>\n",
       "    <tr>\n",
       "      <th>4</th>\n",
       "      <td>1748340</td>\n",
       "      <td>202206</td>\n",
       "      <td>11</td>\n",
       "      <td>118</td>\n",
       "      <td>5000000.0</td>\n",
       "      <td>16.4</td>\n",
       "      <td>NaN</td>\n",
       "      <td>430982</td>\n",
       "      <td>1996.0</td>\n",
       "      <td>1.0</td>\n",
       "      <td>...</td>\n",
       "      <td>0</td>\n",
       "      <td>0</td>\n",
       "      <td>1</td>\n",
       "      <td>0</td>\n",
       "      <td>1</td>\n",
       "      <td>0</td>\n",
       "      <td>0</td>\n",
       "      <td>0</td>\n",
       "      <td>0</td>\n",
       "      <td>0</td>\n",
       "    </tr>\n",
       "    <tr>\n",
       "      <th>...</th>\n",
       "      <td>...</td>\n",
       "      <td>...</td>\n",
       "      <td>...</td>\n",
       "      <td>...</td>\n",
       "      <td>...</td>\n",
       "      <td>...</td>\n",
       "      <td>...</td>\n",
       "      <td>...</td>\n",
       "      <td>...</td>\n",
       "      <td>...</td>\n",
       "      <td>...</td>\n",
       "      <td>...</td>\n",
       "      <td>...</td>\n",
       "      <td>...</td>\n",
       "      <td>...</td>\n",
       "      <td>...</td>\n",
       "      <td>...</td>\n",
       "      <td>...</td>\n",
       "      <td>...</td>\n",
       "      <td>...</td>\n",
       "      <td>...</td>\n",
       "    </tr>\n",
       "    <tr>\n",
       "      <th>13527245</th>\n",
       "      <td>1428218</td>\n",
       "      <td>202206</td>\n",
       "      <td>62</td>\n",
       "      <td>200</td>\n",
       "      <td>3000000.0</td>\n",
       "      <td>14.8</td>\n",
       "      <td>NaN</td>\n",
       "      <td>478802</td>\n",
       "      <td>1965.0</td>\n",
       "      <td>1.0</td>\n",
       "      <td>...</td>\n",
       "      <td>1</td>\n",
       "      <td>0</td>\n",
       "      <td>0</td>\n",
       "      <td>0</td>\n",
       "      <td>1</td>\n",
       "      <td>0</td>\n",
       "      <td>0</td>\n",
       "      <td>0</td>\n",
       "      <td>0</td>\n",
       "      <td>0</td>\n",
       "    </tr>\n",
       "    <tr>\n",
       "      <th>13527246</th>\n",
       "      <td>1428218</td>\n",
       "      <td>202206</td>\n",
       "      <td>2</td>\n",
       "      <td>7</td>\n",
       "      <td>40000000.0</td>\n",
       "      <td>11.8</td>\n",
       "      <td>NaN</td>\n",
       "      <td>478802</td>\n",
       "      <td>1965.0</td>\n",
       "      <td>1.0</td>\n",
       "      <td>...</td>\n",
       "      <td>1</td>\n",
       "      <td>0</td>\n",
       "      <td>0</td>\n",
       "      <td>0</td>\n",
       "      <td>1</td>\n",
       "      <td>0</td>\n",
       "      <td>0</td>\n",
       "      <td>0</td>\n",
       "      <td>0</td>\n",
       "      <td>0</td>\n",
       "    </tr>\n",
       "    <tr>\n",
       "      <th>13527247</th>\n",
       "      <td>1428218</td>\n",
       "      <td>202206</td>\n",
       "      <td>32</td>\n",
       "      <td>257</td>\n",
       "      <td>15000000.0</td>\n",
       "      <td>7.2</td>\n",
       "      <td>NaN</td>\n",
       "      <td>478802</td>\n",
       "      <td>1965.0</td>\n",
       "      <td>1.0</td>\n",
       "      <td>...</td>\n",
       "      <td>1</td>\n",
       "      <td>0</td>\n",
       "      <td>0</td>\n",
       "      <td>0</td>\n",
       "      <td>1</td>\n",
       "      <td>0</td>\n",
       "      <td>0</td>\n",
       "      <td>0</td>\n",
       "      <td>0</td>\n",
       "      <td>0</td>\n",
       "    </tr>\n",
       "    <tr>\n",
       "      <th>13527248</th>\n",
       "      <td>1428218</td>\n",
       "      <td>202206</td>\n",
       "      <td>33</td>\n",
       "      <td>110</td>\n",
       "      <td>44000000.0</td>\n",
       "      <td>13.5</td>\n",
       "      <td>NaN</td>\n",
       "      <td>478802</td>\n",
       "      <td>1965.0</td>\n",
       "      <td>1.0</td>\n",
       "      <td>...</td>\n",
       "      <td>1</td>\n",
       "      <td>0</td>\n",
       "      <td>0</td>\n",
       "      <td>0</td>\n",
       "      <td>1</td>\n",
       "      <td>0</td>\n",
       "      <td>0</td>\n",
       "      <td>0</td>\n",
       "      <td>0</td>\n",
       "      <td>0</td>\n",
       "    </tr>\n",
       "    <tr>\n",
       "      <th>13527249</th>\n",
       "      <td>1428218</td>\n",
       "      <td>202206</td>\n",
       "      <td>5</td>\n",
       "      <td>194</td>\n",
       "      <td>44000000.0</td>\n",
       "      <td>9.7</td>\n",
       "      <td>NaN</td>\n",
       "      <td>478802</td>\n",
       "      <td>1965.0</td>\n",
       "      <td>1.0</td>\n",
       "      <td>...</td>\n",
       "      <td>1</td>\n",
       "      <td>0</td>\n",
       "      <td>0</td>\n",
       "      <td>0</td>\n",
       "      <td>1</td>\n",
       "      <td>0</td>\n",
       "      <td>0</td>\n",
       "      <td>0</td>\n",
       "      <td>0</td>\n",
       "      <td>0</td>\n",
       "    </tr>\n",
       "  </tbody>\n",
       "</table>\n",
       "<p>13527250 rows × 38 columns</p>\n",
       "</div>"
      ],
      "text/plain": [
       "          application_id loanapply_insert_time  bank_id  product_id  \\\n",
       "0                1748340                202206        7         191   \n",
       "1                1748340                202206       25         169   \n",
       "2                1748340                202206        2           7   \n",
       "3                1748340                202206        4         268   \n",
       "4                1748340                202206       11         118   \n",
       "...                  ...                   ...      ...         ...   \n",
       "13527245         1428218                202206       62         200   \n",
       "13527246         1428218                202206        2           7   \n",
       "13527247         1428218                202206       32         257   \n",
       "13527248         1428218                202206       33         110   \n",
       "13527249         1428218                202206        5         194   \n",
       "\n",
       "          loan_limit  loan_rate  is_applied  user_id  birth_year  gender  ...  \\\n",
       "0         42000000.0       13.6         NaN   430982      1996.0     1.0  ...   \n",
       "1         24000000.0       17.9         NaN   430982      1996.0     1.0  ...   \n",
       "2         24000000.0       18.5         NaN   430982      1996.0     1.0  ...   \n",
       "3         29000000.0       10.8         NaN   430982      1996.0     1.0  ...   \n",
       "4          5000000.0       16.4         NaN   430982      1996.0     1.0  ...   \n",
       "...              ...        ...         ...      ...         ...     ...  ...   \n",
       "13527245   3000000.0       14.8         NaN   478802      1965.0     1.0  ...   \n",
       "13527246  40000000.0       11.8         NaN   478802      1965.0     1.0  ...   \n",
       "13527247  15000000.0        7.2         NaN   478802      1965.0     1.0  ...   \n",
       "13527248  44000000.0       13.5         NaN   478802      1965.0     1.0  ...   \n",
       "13527249  44000000.0        9.7         NaN   478802      1965.0     1.0  ...   \n",
       "\n",
       "         houseown_type_0  houseown_type_1  houseown_type_2  houseown_type_3  \\\n",
       "0                      0                0                1                0   \n",
       "1                      0                0                1                0   \n",
       "2                      0                0                1                0   \n",
       "3                      0                0                1                0   \n",
       "4                      0                0                1                0   \n",
       "...                  ...              ...              ...              ...   \n",
       "13527245               1                0                0                0   \n",
       "13527246               1                0                0                0   \n",
       "13527247               1                0                0                0   \n",
       "13527248               1                0                0                0   \n",
       "13527249               1                0                0                0   \n",
       "\n",
       "         income_type_EARNEDINCOME  income_type_EARNEDINCOME2  \\\n",
       "0                               1                          0   \n",
       "1                               1                          0   \n",
       "2                               1                          0   \n",
       "3                               1                          0   \n",
       "4                               1                          0   \n",
       "...                           ...                        ...   \n",
       "13527245                        1                          0   \n",
       "13527246                        1                          0   \n",
       "13527247                        1                          0   \n",
       "13527248                        1                          0   \n",
       "13527249                        1                          0   \n",
       "\n",
       "          income_type_FREELANCER  income_type_OTHERINCOME  \\\n",
       "0                              0                        0   \n",
       "1                              0                        0   \n",
       "2                              0                        0   \n",
       "3                              0                        0   \n",
       "4                              0                        0   \n",
       "...                          ...                      ...   \n",
       "13527245                       0                        0   \n",
       "13527246                       0                        0   \n",
       "13527247                       0                        0   \n",
       "13527248                       0                        0   \n",
       "13527249                       0                        0   \n",
       "\n",
       "          income_type_PRACTITIONER  income_type_PRIVATEBUSINESS  \n",
       "0                                0                            0  \n",
       "1                                0                            0  \n",
       "2                                0                            0  \n",
       "3                                0                            0  \n",
       "4                                0                            0  \n",
       "...                            ...                          ...  \n",
       "13527245                         0                            0  \n",
       "13527246                         0                            0  \n",
       "13527247                         0                            0  \n",
       "13527248                         0                            0  \n",
       "13527249                         0                            0  \n",
       "\n",
       "[13527250 rows x 38 columns]"
      ]
     },
     "execution_count": 30,
     "metadata": {},
     "output_type": "execute_result"
    }
   ],
   "source": [
    "merge_df"
   ]
  },
  {
   "cell_type": "code",
   "execution_count": null,
   "id": "9f539e0d-d08c-44a4-94c0-59068f225e55",
   "metadata": {},
   "outputs": [],
   "source": [
    "merge_df.to_csv(\"merge_df.csv\", index=False)"
   ]
  },
  {
   "cell_type": "code",
   "execution_count": null,
   "id": "8c4e3927-7b92-42d8-af39-b121cf084e47",
   "metadata": {},
   "outputs": [],
   "source": []
  }
 ],
 "metadata": {
  "kernelspec": {
   "display_name": "Python 3 (ipykernel)",
   "language": "python",
   "name": "python3"
  },
  "language_info": {
   "codemirror_mode": {
    "name": "ipython",
    "version": 3
   },
   "file_extension": ".py",
   "mimetype": "text/x-python",
   "name": "python",
   "nbconvert_exporter": "python",
   "pygments_lexer": "ipython3",
   "version": "3.9.12"
  }
 },
 "nbformat": 4,
 "nbformat_minor": 5
}
