{
 "cells": [
  {
   "cell_type": "code",
   "execution_count": 1,
   "id": "79cbad0e-370e-4931-8d44-8ce3aa9f71c9",
   "metadata": {},
   "outputs": [],
   "source": [
    "import numpy as np\n",
    "import pandas as pd\n",
    "import matplotlib.pyplot as plt\n",
    "import seaborn as sns\n",
    "import math\n",
    "\n",
    "from matplotlib import font_manager, rc\n",
    "font_path = \"BMJUA_ttf.ttf\"\n",
    "font = font_manager.FontProperties(fname=font_path).get_name()\n",
    "rc('font', family=font)\n",
    "plt.rc('axes', unicode_minus=False)"
   ]
  },
  {
   "cell_type": "code",
   "execution_count": 2,
   "id": "aba9b49c-cc31-4e6c-a2c6-bc053540b935",
   "metadata": {},
   "outputs": [],
   "source": [
    "spec = pd.read_csv(\"user_spec.csv\")\n",
    "result = pd.read_csv(\"loan_result.csv\")"
   ]
  },
  {
   "cell_type": "code",
   "execution_count": 3,
   "id": "b821f91c-bf0a-47d7-b2c0-126ec56d657b",
   "metadata": {},
   "outputs": [],
   "source": [
    "merge = pd.merge(result, spec, right_on=\"application_id\", left_on=\"application_id\")"
   ]
  },
  {
   "cell_type": "code",
   "execution_count": 4,
   "id": "fa400219-3549-4741-9e7e-18fc292bf3e1",
   "metadata": {},
   "outputs": [
    {
     "name": "stdout",
     "output_type": "stream",
     "text": [
      "<class 'pandas.core.frame.DataFrame'>\n",
      "Int64Index: 13527250 entries, 0 to 13527249\n",
      "Data columns (total 23 columns):\n",
      " #   Column                               Dtype  \n",
      "---  ------                               -----  \n",
      " 0   application_id                       int64  \n",
      " 1   loanapply_insert_time                object \n",
      " 2   bank_id                              int64  \n",
      " 3   product_id                           int64  \n",
      " 4   loan_limit                           float64\n",
      " 5   loan_rate                            float64\n",
      " 6   is_applied                           float64\n",
      " 7   user_id                              int64  \n",
      " 8   birth_year                           float64\n",
      " 9   gender                               float64\n",
      " 10  insert_time                          object \n",
      " 11  credit_score                         float64\n",
      " 12  yearly_income                        float64\n",
      " 13  income_type                          object \n",
      " 14  company_enter_month                  float64\n",
      " 15  employment_type                      object \n",
      " 16  houseown_type                        object \n",
      " 17  desired_amount                       float64\n",
      " 18  purpose                              object \n",
      " 19  personal_rehabilitation_yn           float64\n",
      " 20  personal_rehabilitation_complete_yn  float64\n",
      " 21  existing_loan_cnt                    float64\n",
      " 22  existing_loan_amt                    float64\n",
      "dtypes: float64(13), int64(4), object(6)\n",
      "memory usage: 2.4+ GB\n"
     ]
    }
   ],
   "source": [
    "merge.info() #data의 type을 확인하기 위한 코드"
   ]
  },
  {
   "cell_type": "code",
   "execution_count": 5,
   "id": "79b26b7f-4cf8-4da6-881d-8d019d402a4f",
   "metadata": {},
   "outputs": [
    {
     "data": {
      "text/plain": [
       "application_id                                0\n",
       "loanapply_insert_time                         0\n",
       "bank_id                                       0\n",
       "product_id                                    0\n",
       "loan_limit                                 7382\n",
       "loan_rate                                  7382\n",
       "is_applied                              3257239\n",
       "user_id                                       0\n",
       "birth_year                               128096\n",
       "gender                                   128096\n",
       "insert_time                                   0\n",
       "credit_score                            1509276\n",
       "yearly_income                                 6\n",
       "income_type                                   0\n",
       "company_enter_month                      400337\n",
       "employment_type                               0\n",
       "houseown_type                                 0\n",
       "desired_amount                                0\n",
       "purpose                                       0\n",
       "personal_rehabilitation_yn              5888701\n",
       "personal_rehabilitation_complete_yn    11793977\n",
       "existing_loan_cnt                       2685709\n",
       "existing_loan_amt                       3890163\n",
       "dtype: int64"
      ]
     },
     "execution_count": 5,
     "metadata": {},
     "output_type": "execute_result"
    }
   ],
   "source": [
    "merge.isnull().sum() #dataframe안에 null값이 얼마나 존재하는지 확인하는 코드"
   ]
  },
  {
   "cell_type": "code",
   "execution_count": 6,
   "id": "06f9e61a-66c5-4f71-9f73-85e3b56b2c51",
   "metadata": {},
   "outputs": [
    {
     "data": {
      "image/png": "[encoded data removed]",
      "text/plain": [
       "<Figure size 432x288 with 1 Axes>"
      ]
     },
     "metadata": {},
     "output_type": "display_data"
    }
   ],
   "source": [
    "#자가소유 비율\n",
    "merge['houseown_type'].value_counts().plot(kind='pie')\n",
    "plt.show()"
   ]
  },
  {
   "cell_type": "code",
   "execution_count": 7,
   "id": "ca61f208-649e-4ade-95dc-c33bf34f9f45",
   "metadata": {},
   "outputs": [
    {
     "data": {
      "image/png": "[encoded data removed]",
      "text/plain": [
       "<Figure size 432x288 with 1 Axes>"
      ]
     },
     "metadata": {},
     "output_type": "display_data"
    }
   ],
   "source": [
    "#대출목적 비율\n",
    "merge['purpose'].value_counts().plot(kind='pie')\n",
    "plt.show()"
   ]
  },
  {
   "cell_type": "code",
   "execution_count": 8,
   "id": "30f9d3be-e66c-4c73-9402-4df67a3cca24",
   "metadata": {},
   "outputs": [
    {
     "data": {
      "image/png": "[encoded data removed]",
      "text/plain": [
       "<Figure size 432x288 with 1 Axes>"
      ]
     },
     "metadata": {
      "needs_background": "light"
     },
     "output_type": "display_data"
    }
   ],
   "source": [
    "#대출목적과 대출받았는지에 대한 그래프\n",
    "grape_df = merge.groupby(['purpose','is_applied'])['is_applied'].count().unstack('is_applied')\n",
    "grape_df.plot()\n",
    "plt.title('purpose')\n",
    "plt.show()"
   ]
  },
  {
   "cell_type": "code",
   "execution_count": 9,
   "id": "99c18739-6836-424a-8d9b-2fb37e4dfeeb",
   "metadata": {},
   "outputs": [
    {
     "data": {
      "image/png": "[encoded data removed]",
      "text/plain": [
       "<Figure size 432x288 with 1 Axes>"
      ]
     },
     "metadata": {
      "needs_background": "light"
     },
     "output_type": "display_data"
    }
   ],
   "source": [
    "#자가소유와 대출받았는지에 대한 그래프\n",
    "grape_df = merge.groupby(['houseown_type','is_applied'])['is_applied'].count().unstack('is_applied')\n",
    "grape_df.plot()\n",
    "plt.title('houseown_type')\n",
    "plt.show()"
   ]
  },
  {
   "cell_type": "code",
   "execution_count": 10,
   "id": "f6487436-2557-4551-9a98-40e43c21fd71",
   "metadata": {},
   "outputs": [
    {
     "data": {
      "image/png": "[encoded data removed]",
      "text/plain": [
       "<Figure size 432x288 with 1 Axes>"
      ]
     },
     "metadata": {
      "needs_background": "light"
     },
     "output_type": "display_data"
    }
   ],
   "source": [
    "#근로형태와 대출\n",
    "grape_df = merge.groupby(['income_type','is_applied'])['is_applied'].count().unstack('is_applied')\n",
    "grape_df.plot()\n",
    "plt.title('income_type')\n",
    "plt.show()"
   ]
  },
  {
   "cell_type": "code",
   "execution_count": 11,
   "id": "79aaf0d3-9da0-43b5-be27-50b8db594d2d",
   "metadata": {},
   "outputs": [],
   "source": [
    "#아래는 대출목적 원핫인코딩용"
   ]
  },
  {
   "cell_type": "code",
   "execution_count": 12,
   "id": "e2cf8058-07ea-4f85-af00-4a79ea678121",
   "metadata": {},
   "outputs": [],
   "source": [
    "def convert_purpose(data):\n",
    "    if data == \"생활비\" or data == \"LIVING\":\n",
    "        return 1\n",
    "    elif data == \"대환대출\" or data == \"SWITCHLOAN\":\n",
    "        return 2\n",
    "    elif data == \"주택구입\" or data == \"BUYHOUSE\":\n",
    "        return 3\n",
    "    elif data == \"전월세보증금\" or data == \"HOUSEDEPOSIT\":\n",
    "        return 4\n",
    "    elif data == \"사업자금\" or data == \"BUSINESS\":\n",
    "        return 5\n",
    "    elif data == \"투자\" or data == \"INVEST\":\n",
    "        return 6\n",
    "    elif data == \"자동차구입\" or data == \"BUYCAR\":\n",
    "        return 7\n",
    "    elif data == \"기타\" or data == \"ETC\":\n",
    "        return 0"
   ]
  },
  {
   "cell_type": "code",
   "execution_count": 13,
   "id": "79103a7e-daf5-42c2-ba6f-e8431cd9538b",
   "metadata": {},
   "outputs": [
    {
     "data": {
      "text/plain": [
       "생활비             6828706\n",
       "대환대출            4073362\n",
       "주택구입             569679\n",
       "전월세보증금           569284\n",
       "사업자금             551570\n",
       "기타               400084\n",
       "투자               285670\n",
       "LIVING           107532\n",
       "자동차구입             58571\n",
       "SWITCHLOAN        33615\n",
       "HOUSEDEPOSIT      15912\n",
       "BUYHOUSE          10989\n",
       "BUSINESS           8513\n",
       "ETC                7374\n",
       "INVEST             3634\n",
       "BUYCAR             2755\n",
       "Name: purpose, dtype: int64"
      ]
     },
     "execution_count": 13,
     "metadata": {},
     "output_type": "execute_result"
    }
   ],
   "source": [
    "merge['purpose'].value_counts() #대출목적 값 확인"
   ]
  },
  {
   "cell_type": "code",
   "execution_count": 14,
   "id": "4f54bb43-4980-4074-ac90-7e4ec53b7a3c",
   "metadata": {},
   "outputs": [],
   "source": [
    "#대출목적 원핫인코딩해서 merge_df에 저장\n",
    "merge['purpose'] = merge['purpose'].apply(convert_purpose)\n",
    "merge_df = pd.get_dummies(data = merge, columns = ['purpose'], prefix = 'purpose')"
   ]
  },
  {
   "cell_type": "code",
   "execution_count": 15,
   "id": "9896c534-28b8-44e2-ae24-084d4b68307f",
   "metadata": {},
   "outputs": [],
   "source": [
    "#아래는 자가소유 원핫인코딩용"
   ]
  },
  {
   "cell_type": "code",
   "execution_count": 16,
   "id": "aa2e07ac-621a-4222-aeb8-101d036434d5",
   "metadata": {},
   "outputs": [],
   "source": [
    "def convert_house(data):\n",
    "    if data == \"전월세\":\n",
    "        return 1\n",
    "    elif data == \"자가\":\n",
    "        return 2\n",
    "    elif data == \"배우자\":\n",
    "        return 3\n",
    "    elif data == \"기타가족소유\":\n",
    "        return 0"
   ]
  },
  {
   "cell_type": "code",
   "execution_count": 17,
   "id": "563eebea-4b36-4fc1-bf33-b592eda0741f",
   "metadata": {},
   "outputs": [
    {
     "data": {
      "text/plain": [
       "전월세       6024282\n",
       "자가        3817266\n",
       "기타가족소유    3672900\n",
       "배우자         12802\n",
       "Name: houseown_type, dtype: int64"
      ]
     },
     "execution_count": 17,
     "metadata": {},
     "output_type": "execute_result"
    }
   ],
   "source": [
    "merge_df['houseown_type'].value_counts() #자가소유 카운팅"
   ]
  },
  {
   "cell_type": "code",
   "execution_count": 18,
   "id": "ec8d77d2-6f8b-495f-bb02-480fdc8a4f0d",
   "metadata": {},
   "outputs": [],
   "source": [
    "#자가소유 원핫인코딩 merge_df에 저장\n",
    "merge_df['houseown_type'] = merge_df['houseown_type'].apply(convert_house)\n",
    "merge_df = pd.get_dummies(data = merge_df, columns = ['houseown_type'], prefix = 'houseown_type')"
   ]
  },
  {
   "cell_type": "code",
   "execution_count": 19,
   "id": "acd739aa-a7ba-48f7-a66f-e3d237cef490",
   "metadata": {},
   "outputs": [],
   "source": [
    "#아래는 근로형태 원핫인코딩용"
   ]
  },
  {
   "cell_type": "code",
   "execution_count": 20,
   "id": "010c212b-10bb-4218-8422-9f099a9b038e",
   "metadata": {},
   "outputs": [],
   "source": [
    "def convert_income(data):\n",
    "    if data == \"EARNEDINCOME\":\n",
    "        return 1\n",
    "    elif data == \"EARNEDINCOME2\":\n",
    "        return 2\n",
    "    elif data == \"PRIVATEBUSINESS\":\n",
    "        return 3\n",
    "    elif data == \"FREELANCER\":\n",
    "        return 4\n",
    "    elif data == \"PRACTITIONER\":\n",
    "        return 5\n",
    "    elif data == \"OTHERINCOME\":\n",
    "        return 0"
   ]
  },
  {
   "cell_type": "code",
   "execution_count": 21,
   "id": "c56eaf54-dde2-4a05-b540-3c15e10f3a90",
   "metadata": {},
   "outputs": [
    {
     "data": {
      "text/plain": [
       "EARNEDINCOME       11467245\n",
       "EARNEDINCOME2        564602\n",
       "PRIVATEBUSINESS      494237\n",
       "OTHERINCOME          402850\n",
       "FREELANCER           312935\n",
       "PRACTITIONER         285381\n",
       "Name: income_type, dtype: int64"
      ]
     },
     "execution_count": 21,
     "metadata": {},
     "output_type": "execute_result"
    }
   ],
   "source": [
    "merge_df['income_type'].value_counts() #근로형태 카운팅"
   ]
  },
  {
   "cell_type": "code",
   "execution_count": 23,
   "id": "908b8703-0a1b-4e8d-b79e-1cbd8c6f3bdf",
   "metadata": {},
   "outputs": [],
   "source": [
    "#근로형태 원핫인코딩 merge_df에 저장\n",
    "merge_df['income_type'] = merge_df['income_type'].apply(convert_house)\n",
    "merge_df = pd.get_dummies(data = merge_df, columns = ['income_type'], prefix = 'income_type')"
   ]
  },
  {
   "cell_type": "code",
   "execution_count": 24,
   "id": "b55f220a-4a68-4547-91cc-6054bfc1449d",
   "metadata": {},
   "outputs": [
    {
     "data": {
      "image/png": "[encoded data removed]",
      "text/plain": [
       "<Figure size 432x288 with 1 Axes>"
      ]
     },
     "metadata": {
      "needs_background": "light"
     },
     "output_type": "display_data"
    }
   ],
   "source": [
    "#신용점수 분포도\n",
    "x = merge['credit_score'].values\n",
    "\n",
    "sns.kdeplot(x)\n",
    "plt.title('신용점수')\n",
    "plt.show()"
   ]
  },
  {
   "cell_type": "code",
   "execution_count": 25,
   "id": "4e2e63a9-09c6-4390-82f1-e6ef2acf995c",
   "metadata": {},
   "outputs": [
    {
     "data": {
      "text/html": [
       "<div>\n",
       "<style scoped>\n",
       "    .dataframe tbody tr th:only-of-type {\n",
       "        vertical-align: middle;\n",
       "    }\n",
       "\n",
       "    .dataframe tbody tr th {\n",
       "        vertical-align: top;\n",
       "    }\n",
       "\n",
       "    .dataframe thead th {\n",
       "        text-align: right;\n",
       "    }\n",
       "</style>\n",
       "<table border=\"1\" class=\"dataframe\">\n",
       "  <thead>\n",
       "    <tr style=\"text-align: right;\">\n",
       "      <th></th>\n",
       "      <th>application_id</th>\n",
       "      <th>bank_id</th>\n",
       "      <th>product_id</th>\n",
       "      <th>loan_limit</th>\n",
       "      <th>loan_rate</th>\n",
       "      <th>is_applied</th>\n",
       "      <th>user_id</th>\n",
       "      <th>birth_year</th>\n",
       "      <th>gender</th>\n",
       "      <th>credit_score</th>\n",
       "      <th>yearly_income</th>\n",
       "      <th>company_enter_month</th>\n",
       "      <th>desired_amount</th>\n",
       "      <th>purpose</th>\n",
       "      <th>personal_rehabilitation_yn</th>\n",
       "      <th>personal_rehabilitation_complete_yn</th>\n",
       "      <th>existing_loan_cnt</th>\n",
       "      <th>existing_loan_amt</th>\n",
       "    </tr>\n",
       "  </thead>\n",
       "  <tbody>\n",
       "    <tr>\n",
       "      <th>application_id</th>\n",
       "      <td>1.000000</td>\n",
       "      <td>-0.000551</td>\n",
       "      <td>0.000170</td>\n",
       "      <td>-0.000101</td>\n",
       "      <td>0.000107</td>\n",
       "      <td>0.000415</td>\n",
       "      <td>-0.001705</td>\n",
       "      <td>-0.001916</td>\n",
       "      <td>0.001533</td>\n",
       "      <td>-0.000543</td>\n",
       "      <td>0.001039</td>\n",
       "      <td>0.001905</td>\n",
       "      <td>0.001392</td>\n",
       "      <td>0.000132</td>\n",
       "      <td>-0.000606</td>\n",
       "      <td>-0.001147</td>\n",
       "      <td>-0.000044</td>\n",
       "      <td>0.000707</td>\n",
       "    </tr>\n",
       "    <tr>\n",
       "      <th>bank_id</th>\n",
       "      <td>-0.000551</td>\n",
       "      <td>1.000000</td>\n",
       "      <td>0.138356</td>\n",
       "      <td>-0.009942</td>\n",
       "      <td>-0.139490</td>\n",
       "      <td>0.015787</td>\n",
       "      <td>0.000119</td>\n",
       "      <td>0.006946</td>\n",
       "      <td>0.009417</td>\n",
       "      <td>-0.009510</td>\n",
       "      <td>-0.001432</td>\n",
       "      <td>-0.022785</td>\n",
       "      <td>-0.000120</td>\n",
       "      <td>-0.012638</td>\n",
       "      <td>0.004033</td>\n",
       "      <td>-0.000496</td>\n",
       "      <td>0.014170</td>\n",
       "      <td>0.021671</td>\n",
       "    </tr>\n",
       "    <tr>\n",
       "      <th>product_id</th>\n",
       "      <td>0.000170</td>\n",
       "      <td>0.138356</td>\n",
       "      <td>1.000000</td>\n",
       "      <td>0.002529</td>\n",
       "      <td>-0.124230</td>\n",
       "      <td>0.034671</td>\n",
       "      <td>-0.000021</td>\n",
       "      <td>0.009024</td>\n",
       "      <td>0.014833</td>\n",
       "      <td>0.016169</td>\n",
       "      <td>-0.003741</td>\n",
       "      <td>0.007654</td>\n",
       "      <td>-0.000508</td>\n",
       "      <td>-0.003672</td>\n",
       "      <td>0.002758</td>\n",
       "      <td>-0.001563</td>\n",
       "      <td>-0.004384</td>\n",
       "      <td>0.009798</td>\n",
       "    </tr>\n",
       "    <tr>\n",
       "      <th>loan_limit</th>\n",
       "      <td>-0.000101</td>\n",
       "      <td>-0.009942</td>\n",
       "      <td>0.002529</td>\n",
       "      <td>1.000000</td>\n",
       "      <td>-0.017229</td>\n",
       "      <td>-0.029384</td>\n",
       "      <td>0.000748</td>\n",
       "      <td>-0.011289</td>\n",
       "      <td>0.020917</td>\n",
       "      <td>0.074132</td>\n",
       "      <td>0.022731</td>\n",
       "      <td>0.003603</td>\n",
       "      <td>0.015317</td>\n",
       "      <td>0.023500</td>\n",
       "      <td>-0.001952</td>\n",
       "      <td>0.005898</td>\n",
       "      <td>-0.028629</td>\n",
       "      <td>-0.001905</td>\n",
       "    </tr>\n",
       "    <tr>\n",
       "      <th>loan_rate</th>\n",
       "      <td>0.000107</td>\n",
       "      <td>-0.139490</td>\n",
       "      <td>-0.124230</td>\n",
       "      <td>-0.017229</td>\n",
       "      <td>1.000000</td>\n",
       "      <td>-0.052392</td>\n",
       "      <td>-0.001444</td>\n",
       "      <td>0.000274</td>\n",
       "      <td>0.007371</td>\n",
       "      <td>-0.245056</td>\n",
       "      <td>-0.007296</td>\n",
       "      <td>-0.005408</td>\n",
       "      <td>-0.031584</td>\n",
       "      <td>-0.045271</td>\n",
       "      <td>-0.002637</td>\n",
       "      <td>-0.004003</td>\n",
       "      <td>0.091244</td>\n",
       "      <td>-0.053759</td>\n",
       "    </tr>\n",
       "    <tr>\n",
       "      <th>is_applied</th>\n",
       "      <td>0.000415</td>\n",
       "      <td>0.015787</td>\n",
       "      <td>0.034671</td>\n",
       "      <td>-0.029384</td>\n",
       "      <td>-0.052392</td>\n",
       "      <td>1.000000</td>\n",
       "      <td>0.000225</td>\n",
       "      <td>0.010687</td>\n",
       "      <td>-0.012281</td>\n",
       "      <td>-0.176748</td>\n",
       "      <td>-0.006184</td>\n",
       "      <td>0.027242</td>\n",
       "      <td>-0.027016</td>\n",
       "      <td>-0.055566</td>\n",
       "      <td>0.017199</td>\n",
       "      <td>0.005190</td>\n",
       "      <td>0.080327</td>\n",
       "      <td>-0.024910</td>\n",
       "    </tr>\n",
       "    <tr>\n",
       "      <th>user_id</th>\n",
       "      <td>-0.001705</td>\n",
       "      <td>0.000119</td>\n",
       "      <td>-0.000021</td>\n",
       "      <td>0.000748</td>\n",
       "      <td>-0.001444</td>\n",
       "      <td>0.000225</td>\n",
       "      <td>1.000000</td>\n",
       "      <td>0.004200</td>\n",
       "      <td>0.006233</td>\n",
       "      <td>0.007925</td>\n",
       "      <td>0.007387</td>\n",
       "      <td>0.002633</td>\n",
       "      <td>0.004734</td>\n",
       "      <td>-0.004372</td>\n",
       "      <td>-0.001760</td>\n",
       "      <td>-0.003120</td>\n",
       "      <td>-0.003855</td>\n",
       "      <td>0.003029</td>\n",
       "    </tr>\n",
       "    <tr>\n",
       "      <th>birth_year</th>\n",
       "      <td>-0.001916</td>\n",
       "      <td>0.006946</td>\n",
       "      <td>0.009024</td>\n",
       "      <td>-0.011289</td>\n",
       "      <td>0.000274</td>\n",
       "      <td>0.010687</td>\n",
       "      <td>0.004200</td>\n",
       "      <td>1.000000</td>\n",
       "      <td>0.005142</td>\n",
       "      <td>0.000873</td>\n",
       "      <td>-0.056615</td>\n",
       "      <td>0.002562</td>\n",
       "      <td>-0.008217</td>\n",
       "      <td>0.062552</td>\n",
       "      <td>-0.018697</td>\n",
       "      <td>-0.059100</td>\n",
       "      <td>-0.102841</td>\n",
       "      <td>-0.118321</td>\n",
       "    </tr>\n",
       "    <tr>\n",
       "      <th>gender</th>\n",
       "      <td>0.001533</td>\n",
       "      <td>0.009417</td>\n",
       "      <td>0.014833</td>\n",
       "      <td>0.020917</td>\n",
       "      <td>0.007371</td>\n",
       "      <td>-0.012281</td>\n",
       "      <td>0.006233</td>\n",
       "      <td>0.005142</td>\n",
       "      <td>1.000000</td>\n",
       "      <td>0.069946</td>\n",
       "      <td>0.029869</td>\n",
       "      <td>-0.002785</td>\n",
       "      <td>0.024352</td>\n",
       "      <td>0.036874</td>\n",
       "      <td>-0.004597</td>\n",
       "      <td>0.015461</td>\n",
       "      <td>0.027344</td>\n",
       "      <td>0.129528</td>\n",
       "    </tr>\n",
       "    <tr>\n",
       "      <th>credit_score</th>\n",
       "      <td>-0.000543</td>\n",
       "      <td>-0.009510</td>\n",
       "      <td>0.016169</td>\n",
       "      <td>0.074132</td>\n",
       "      <td>-0.245056</td>\n",
       "      <td>-0.176748</td>\n",
       "      <td>0.007925</td>\n",
       "      <td>0.000873</td>\n",
       "      <td>0.069946</td>\n",
       "      <td>1.000000</td>\n",
       "      <td>0.057338</td>\n",
       "      <td>0.031030</td>\n",
       "      <td>0.094002</td>\n",
       "      <td>0.196756</td>\n",
       "      <td>-0.040541</td>\n",
       "      <td>-0.012357</td>\n",
       "      <td>-0.216853</td>\n",
       "      <td>0.173511</td>\n",
       "    </tr>\n",
       "    <tr>\n",
       "      <th>yearly_income</th>\n",
       "      <td>0.001039</td>\n",
       "      <td>-0.001432</td>\n",
       "      <td>-0.003741</td>\n",
       "      <td>0.022731</td>\n",
       "      <td>-0.007296</td>\n",
       "      <td>-0.006184</td>\n",
       "      <td>0.007387</td>\n",
       "      <td>-0.056615</td>\n",
       "      <td>0.029869</td>\n",
       "      <td>0.057338</td>\n",
       "      <td>1.000000</td>\n",
       "      <td>0.001976</td>\n",
       "      <td>0.111780</td>\n",
       "      <td>0.022002</td>\n",
       "      <td>-0.005967</td>\n",
       "      <td>-0.000567</td>\n",
       "      <td>0.015881</td>\n",
       "      <td>0.126121</td>\n",
       "    </tr>\n",
       "    <tr>\n",
       "      <th>company_enter_month</th>\n",
       "      <td>0.001905</td>\n",
       "      <td>-0.022785</td>\n",
       "      <td>0.007654</td>\n",
       "      <td>0.003603</td>\n",
       "      <td>-0.005408</td>\n",
       "      <td>0.027242</td>\n",
       "      <td>0.002633</td>\n",
       "      <td>0.002562</td>\n",
       "      <td>-0.002785</td>\n",
       "      <td>0.031030</td>\n",
       "      <td>0.001976</td>\n",
       "      <td>1.000000</td>\n",
       "      <td>0.001784</td>\n",
       "      <td>-0.010196</td>\n",
       "      <td>0.003262</td>\n",
       "      <td>-0.001825</td>\n",
       "      <td>-0.016870</td>\n",
       "      <td>-0.000565</td>\n",
       "    </tr>\n",
       "    <tr>\n",
       "      <th>desired_amount</th>\n",
       "      <td>0.001392</td>\n",
       "      <td>-0.000120</td>\n",
       "      <td>-0.000508</td>\n",
       "      <td>0.015317</td>\n",
       "      <td>-0.031584</td>\n",
       "      <td>-0.027016</td>\n",
       "      <td>0.004734</td>\n",
       "      <td>-0.008217</td>\n",
       "      <td>0.024352</td>\n",
       "      <td>0.094002</td>\n",
       "      <td>0.111780</td>\n",
       "      <td>0.001784</td>\n",
       "      <td>1.000000</td>\n",
       "      <td>0.079716</td>\n",
       "      <td>-0.001262</td>\n",
       "      <td>0.005746</td>\n",
       "      <td>-0.032566</td>\n",
       "      <td>0.059485</td>\n",
       "    </tr>\n",
       "    <tr>\n",
       "      <th>purpose</th>\n",
       "      <td>0.000132</td>\n",
       "      <td>-0.012638</td>\n",
       "      <td>-0.003672</td>\n",
       "      <td>0.023500</td>\n",
       "      <td>-0.045271</td>\n",
       "      <td>-0.055566</td>\n",
       "      <td>-0.004372</td>\n",
       "      <td>0.062552</td>\n",
       "      <td>0.036874</td>\n",
       "      <td>0.196756</td>\n",
       "      <td>0.022002</td>\n",
       "      <td>-0.010196</td>\n",
       "      <td>0.079716</td>\n",
       "      <td>1.000000</td>\n",
       "      <td>-0.008295</td>\n",
       "      <td>0.000112</td>\n",
       "      <td>-0.114117</td>\n",
       "      <td>0.010808</td>\n",
       "    </tr>\n",
       "    <tr>\n",
       "      <th>personal_rehabilitation_yn</th>\n",
       "      <td>-0.000606</td>\n",
       "      <td>0.004033</td>\n",
       "      <td>0.002758</td>\n",
       "      <td>-0.001952</td>\n",
       "      <td>-0.002637</td>\n",
       "      <td>0.017199</td>\n",
       "      <td>-0.001760</td>\n",
       "      <td>-0.018697</td>\n",
       "      <td>-0.004597</td>\n",
       "      <td>-0.040541</td>\n",
       "      <td>-0.005967</td>\n",
       "      <td>0.003262</td>\n",
       "      <td>-0.001262</td>\n",
       "      <td>-0.008295</td>\n",
       "      <td>1.000000</td>\n",
       "      <td>0.396638</td>\n",
       "      <td>-0.020051</td>\n",
       "      <td>-0.031724</td>\n",
       "    </tr>\n",
       "    <tr>\n",
       "      <th>personal_rehabilitation_complete_yn</th>\n",
       "      <td>-0.001147</td>\n",
       "      <td>-0.000496</td>\n",
       "      <td>-0.001563</td>\n",
       "      <td>0.005898</td>\n",
       "      <td>-0.004003</td>\n",
       "      <td>0.005190</td>\n",
       "      <td>-0.003120</td>\n",
       "      <td>-0.059100</td>\n",
       "      <td>0.015461</td>\n",
       "      <td>-0.012357</td>\n",
       "      <td>-0.000567</td>\n",
       "      <td>-0.001825</td>\n",
       "      <td>0.005746</td>\n",
       "      <td>0.000112</td>\n",
       "      <td>0.396638</td>\n",
       "      <td>1.000000</td>\n",
       "      <td>-0.030971</td>\n",
       "      <td>-0.017043</td>\n",
       "    </tr>\n",
       "    <tr>\n",
       "      <th>existing_loan_cnt</th>\n",
       "      <td>-0.000044</td>\n",
       "      <td>0.014170</td>\n",
       "      <td>-0.004384</td>\n",
       "      <td>-0.028629</td>\n",
       "      <td>0.091244</td>\n",
       "      <td>0.080327</td>\n",
       "      <td>-0.003855</td>\n",
       "      <td>-0.102841</td>\n",
       "      <td>0.027344</td>\n",
       "      <td>-0.216853</td>\n",
       "      <td>0.015881</td>\n",
       "      <td>-0.016870</td>\n",
       "      <td>-0.032566</td>\n",
       "      <td>-0.114117</td>\n",
       "      <td>-0.020051</td>\n",
       "      <td>-0.030971</td>\n",
       "      <td>1.000000</td>\n",
       "      <td>0.280067</td>\n",
       "    </tr>\n",
       "    <tr>\n",
       "      <th>existing_loan_amt</th>\n",
       "      <td>0.000707</td>\n",
       "      <td>0.021671</td>\n",
       "      <td>0.009798</td>\n",
       "      <td>-0.001905</td>\n",
       "      <td>-0.053759</td>\n",
       "      <td>-0.024910</td>\n",
       "      <td>0.003029</td>\n",
       "      <td>-0.118321</td>\n",
       "      <td>0.129528</td>\n",
       "      <td>0.173511</td>\n",
       "      <td>0.126121</td>\n",
       "      <td>-0.000565</td>\n",
       "      <td>0.059485</td>\n",
       "      <td>0.010808</td>\n",
       "      <td>-0.031724</td>\n",
       "      <td>-0.017043</td>\n",
       "      <td>0.280067</td>\n",
       "      <td>1.000000</td>\n",
       "    </tr>\n",
       "  </tbody>\n",
       "</table>\n",
       "</div>"
      ],
      "text/plain": [
       "                                     application_id   bank_id  product_id  \\\n",
       "application_id                             1.000000 -0.000551    0.000170   \n",
       "bank_id                                   -0.000551  1.000000    0.138356   \n",
       "product_id                                 0.000170  0.138356    1.000000   \n",
       "loan_limit                                -0.000101 -0.009942    0.002529   \n",
       "loan_rate                                  0.000107 -0.139490   -0.124230   \n",
       "is_applied                                 0.000415  0.015787    0.034671   \n",
       "user_id                                   -0.001705  0.000119   -0.000021   \n",
       "birth_year                                -0.001916  0.006946    0.009024   \n",
       "gender                                     0.001533  0.009417    0.014833   \n",
       "credit_score                              -0.000543 -0.009510    0.016169   \n",
       "yearly_income                              0.001039 -0.001432   -0.003741   \n",
       "company_enter_month                        0.001905 -0.022785    0.007654   \n",
       "desired_amount                             0.001392 -0.000120   -0.000508   \n",
       "purpose                                    0.000132 -0.012638   -0.003672   \n",
       "personal_rehabilitation_yn                -0.000606  0.004033    0.002758   \n",
       "personal_rehabilitation_complete_yn       -0.001147 -0.000496   -0.001563   \n",
       "existing_loan_cnt                         -0.000044  0.014170   -0.004384   \n",
       "existing_loan_amt                          0.000707  0.021671    0.009798   \n",
       "\n",
       "                                     loan_limit  loan_rate  is_applied  \\\n",
       "application_id                        -0.000101   0.000107    0.000415   \n",
       "bank_id                               -0.009942  -0.139490    0.015787   \n",
       "product_id                             0.002529  -0.124230    0.034671   \n",
       "loan_limit                             1.000000  -0.017229   -0.029384   \n",
       "loan_rate                             -0.017229   1.000000   -0.052392   \n",
       "is_applied                            -0.029384  -0.052392    1.000000   \n",
       "user_id                                0.000748  -0.001444    0.000225   \n",
       "birth_year                            -0.011289   0.000274    0.010687   \n",
       "gender                                 0.020917   0.007371   -0.012281   \n",
       "credit_score                           0.074132  -0.245056   -0.176748   \n",
       "yearly_income                          0.022731  -0.007296   -0.006184   \n",
       "company_enter_month                    0.003603  -0.005408    0.027242   \n",
       "desired_amount                         0.015317  -0.031584   -0.027016   \n",
       "purpose                                0.023500  -0.045271   -0.055566   \n",
       "personal_rehabilitation_yn            -0.001952  -0.002637    0.017199   \n",
       "personal_rehabilitation_complete_yn    0.005898  -0.004003    0.005190   \n",
       "existing_loan_cnt                     -0.028629   0.091244    0.080327   \n",
       "existing_loan_amt                     -0.001905  -0.053759   -0.024910   \n",
       "\n",
       "                                      user_id  birth_year    gender  \\\n",
       "application_id                      -0.001705   -0.001916  0.001533   \n",
       "bank_id                              0.000119    0.006946  0.009417   \n",
       "product_id                          -0.000021    0.009024  0.014833   \n",
       "loan_limit                           0.000748   -0.011289  0.020917   \n",
       "loan_rate                           -0.001444    0.000274  0.007371   \n",
       "is_applied                           0.000225    0.010687 -0.012281   \n",
       "user_id                              1.000000    0.004200  0.006233   \n",
       "birth_year                           0.004200    1.000000  0.005142   \n",
       "gender                               0.006233    0.005142  1.000000   \n",
       "credit_score                         0.007925    0.000873  0.069946   \n",
       "yearly_income                        0.007387   -0.056615  0.029869   \n",
       "company_enter_month                  0.002633    0.002562 -0.002785   \n",
       "desired_amount                       0.004734   -0.008217  0.024352   \n",
       "purpose                             -0.004372    0.062552  0.036874   \n",
       "personal_rehabilitation_yn          -0.001760   -0.018697 -0.004597   \n",
       "personal_rehabilitation_complete_yn -0.003120   -0.059100  0.015461   \n",
       "existing_loan_cnt                   -0.003855   -0.102841  0.027344   \n",
       "existing_loan_amt                    0.003029   -0.118321  0.129528   \n",
       "\n",
       "                                     credit_score  yearly_income  \\\n",
       "application_id                          -0.000543       0.001039   \n",
       "bank_id                                 -0.009510      -0.001432   \n",
       "product_id                               0.016169      -0.003741   \n",
       "loan_limit                               0.074132       0.022731   \n",
       "loan_rate                               -0.245056      -0.007296   \n",
       "is_applied                              -0.176748      -0.006184   \n",
       "user_id                                  0.007925       0.007387   \n",
       "birth_year                               0.000873      -0.056615   \n",
       "gender                                   0.069946       0.029869   \n",
       "credit_score                             1.000000       0.057338   \n",
       "yearly_income                            0.057338       1.000000   \n",
       "company_enter_month                      0.031030       0.001976   \n",
       "desired_amount                           0.094002       0.111780   \n",
       "purpose                                  0.196756       0.022002   \n",
       "personal_rehabilitation_yn              -0.040541      -0.005967   \n",
       "personal_rehabilitation_complete_yn     -0.012357      -0.000567   \n",
       "existing_loan_cnt                       -0.216853       0.015881   \n",
       "existing_loan_amt                        0.173511       0.126121   \n",
       "\n",
       "                                     company_enter_month  desired_amount  \\\n",
       "application_id                                  0.001905        0.001392   \n",
       "bank_id                                        -0.022785       -0.000120   \n",
       "product_id                                      0.007654       -0.000508   \n",
       "loan_limit                                      0.003603        0.015317   \n",
       "loan_rate                                      -0.005408       -0.031584   \n",
       "is_applied                                      0.027242       -0.027016   \n",
       "user_id                                         0.002633        0.004734   \n",
       "birth_year                                      0.002562       -0.008217   \n",
       "gender                                         -0.002785        0.024352   \n",
       "credit_score                                    0.031030        0.094002   \n",
       "yearly_income                                   0.001976        0.111780   \n",
       "company_enter_month                             1.000000        0.001784   \n",
       "desired_amount                                  0.001784        1.000000   \n",
       "purpose                                        -0.010196        0.079716   \n",
       "personal_rehabilitation_yn                      0.003262       -0.001262   \n",
       "personal_rehabilitation_complete_yn            -0.001825        0.005746   \n",
       "existing_loan_cnt                              -0.016870       -0.032566   \n",
       "existing_loan_amt                              -0.000565        0.059485   \n",
       "\n",
       "                                      purpose  personal_rehabilitation_yn  \\\n",
       "application_id                       0.000132                   -0.000606   \n",
       "bank_id                             -0.012638                    0.004033   \n",
       "product_id                          -0.003672                    0.002758   \n",
       "loan_limit                           0.023500                   -0.001952   \n",
       "loan_rate                           -0.045271                   -0.002637   \n",
       "is_applied                          -0.055566                    0.017199   \n",
       "user_id                             -0.004372                   -0.001760   \n",
       "birth_year                           0.062552                   -0.018697   \n",
       "gender                               0.036874                   -0.004597   \n",
       "credit_score                         0.196756                   -0.040541   \n",
       "yearly_income                        0.022002                   -0.005967   \n",
       "company_enter_month                 -0.010196                    0.003262   \n",
       "desired_amount                       0.079716                   -0.001262   \n",
       "purpose                              1.000000                   -0.008295   \n",
       "personal_rehabilitation_yn          -0.008295                    1.000000   \n",
       "personal_rehabilitation_complete_yn  0.000112                    0.396638   \n",
       "existing_loan_cnt                   -0.114117                   -0.020051   \n",
       "existing_loan_amt                    0.010808                   -0.031724   \n",
       "\n",
       "                                     personal_rehabilitation_complete_yn  \\\n",
       "application_id                                                 -0.001147   \n",
       "bank_id                                                        -0.000496   \n",
       "product_id                                                     -0.001563   \n",
       "loan_limit                                                      0.005898   \n",
       "loan_rate                                                      -0.004003   \n",
       "is_applied                                                      0.005190   \n",
       "user_id                                                        -0.003120   \n",
       "birth_year                                                     -0.059100   \n",
       "gender                                                          0.015461   \n",
       "credit_score                                                   -0.012357   \n",
       "yearly_income                                                  -0.000567   \n",
       "company_enter_month                                            -0.001825   \n",
       "desired_amount                                                  0.005746   \n",
       "purpose                                                         0.000112   \n",
       "personal_rehabilitation_yn                                      0.396638   \n",
       "personal_rehabilitation_complete_yn                             1.000000   \n",
       "existing_loan_cnt                                              -0.030971   \n",
       "existing_loan_amt                                              -0.017043   \n",
       "\n",
       "                                     existing_loan_cnt  existing_loan_amt  \n",
       "application_id                               -0.000044           0.000707  \n",
       "bank_id                                       0.014170           0.021671  \n",
       "product_id                                   -0.004384           0.009798  \n",
       "loan_limit                                   -0.028629          -0.001905  \n",
       "loan_rate                                     0.091244          -0.053759  \n",
       "is_applied                                    0.080327          -0.024910  \n",
       "user_id                                      -0.003855           0.003029  \n",
       "birth_year                                   -0.102841          -0.118321  \n",
       "gender                                        0.027344           0.129528  \n",
       "credit_score                                 -0.216853           0.173511  \n",
       "yearly_income                                 0.015881           0.126121  \n",
       "company_enter_month                          -0.016870          -0.000565  \n",
       "desired_amount                               -0.032566           0.059485  \n",
       "purpose                                      -0.114117           0.010808  \n",
       "personal_rehabilitation_yn                   -0.020051          -0.031724  \n",
       "personal_rehabilitation_complete_yn          -0.030971          -0.017043  \n",
       "existing_loan_cnt                             1.000000           0.280067  \n",
       "existing_loan_amt                             0.280067           1.000000  "
      ]
     },
     "execution_count": 25,
     "metadata": {},
     "output_type": "execute_result"
    }
   ],
   "source": [
    "#데이터 상관관계\n",
    "merge.corr()"
   ]
  },
  {
   "cell_type": "code",
   "execution_count": 26,
   "id": "fff654ac-eda7-40d4-bc65-7e57130cb2c5",
   "metadata": {},
   "outputs": [
    {
     "data": {
      "text/plain": [
       "<AxesSubplot:>"
      ]
     },
     "execution_count": 26,
     "metadata": {},
     "output_type": "execute_result"
    },
    {
     "data": {
      "image/png": "[encoded data removed]",
      "text/plain": [
       "<Figure size 1368x1368 with 2 Axes>"
      ]
     },
     "metadata": {
      "needs_background": "light"
     },
     "output_type": "display_data"
    }
   ],
   "source": [
    "#데이터 히트맵분석\n",
    "col_names = [\"is_applied\", \"loan_limit\",\"loan_rate\",\"credit_score\",\"yearly_income\",\"company_enter_month\",\"desired_amount\",\"existing_loan_cnt\",\"existing_loan_amt\"]\n",
    "corr = merge[col_names].corr()\n",
    "plt.figure(figsize=(19, 19))\n",
    "sns.heatmap(data=corr.values, annot=True, fmt='.2f', linewidth=.5, cmap='Blues')"
   ]
  },
  {
   "cell_type": "code",
   "execution_count": 27,
   "id": "32ee35f0-78c9-47c3-8e86-a680597cf372",
   "metadata": {},
   "outputs": [],
   "source": [
    "#근로개월 계산을 위한 입사연월 포맷화\n",
    "merge_df.loc[merge_df['company_enter_month'] > 10000000, 'company_enter_month'] = round(merge_df['company_enter_month']/100)"
   ]
  },
  {
   "cell_type": "code",
   "execution_count": 28,
   "id": "ef82081e-ddad-474f-aa66-d527902d04aa",
   "metadata": {},
   "outputs": [
    {
     "data": {
      "text/plain": [
       "202201.0    517411\n",
       "202112.0    419945\n",
       "202111.0    411403\n",
       "202110.0    383568\n",
       "202202.0    336795\n",
       "             ...  \n",
       "191601.0         1\n",
       "198402.0         1\n",
       "197910.0         1\n",
       "197701.0         1\n",
       "198311.0         1\n",
       "Name: company_enter_month, Length: 534, dtype: int64"
      ]
     },
     "execution_count": 28,
     "metadata": {},
     "output_type": "execute_result"
    }
   ],
   "source": [
    "#입사연월 카운트\n",
    "merge_df['company_enter_month'].value_counts()"
   ]
  },
  {
   "cell_type": "code",
   "execution_count": 30,
   "id": "e34e379d-151b-4844-b98c-b3579a576aef",
   "metadata": {},
   "outputs": [],
   "source": [
    "#신청일자를 사용하기 위한 전처리 과정\n",
    "def date_to_num(x):\n",
    "  if str(x).find(\"-\") != -1 :\n",
    "    return str(x).split(\"-\")[0] + str(x).split(\"-\")[1]\n",
    "  return str(x)"
   ]
  },
  {
   "cell_type": "code",
   "execution_count": 31,
   "id": "9d3642c9-0d13-4f44-b530-0a266c93dbd3",
   "metadata": {},
   "outputs": [
    {
     "data": {
      "text/plain": [
       "202205    3579966\n",
       "202204    3427278\n",
       "202203    3262767\n",
       "202206    3257239\n",
       "Name: loanapply_insert_time, dtype: int64"
      ]
     },
     "execution_count": 31,
     "metadata": {},
     "output_type": "execute_result"
    }
   ],
   "source": [
    "#신청일자 전처리\n",
    "merge_df['loanapply_insert_time'] = merge_df['loanapply_insert_time'].apply(date_to_num)\n",
    "merge_df['loanapply_insert_time'].value_counts()"
   ]
  },
  {
   "cell_type": "code",
   "execution_count": 32,
   "id": "c82067f8-381b-46d1-af74-0f6fbfc6f2ab",
   "metadata": {},
   "outputs": [],
   "source": [
    "#입사연월과 신청일자를 사용하기 위한 전처리 과정\n",
    "def year_to_mon(x, y):\n",
    "    return ((round(pd.to_numeric(y)/100 - x/100))*12 + (pd.to_numeric(y)%100 - x%100))"
   ]
  },
  {
   "cell_type": "code",
   "execution_count": null,
   "id": "f0d42560-ee68-4a53-be41-9ebb2c348942",
   "metadata": {},
   "outputs": [],
   "source": [
    "#입사연월과 신청일자를 이용한 근로개월 수 계산\n",
    "merge_df['company_enter_month'] = year_to_mon(merge_df['company_enter_month'], merge_df['loanapply_insert_time'])"
   ]
  },
  {
   "cell_type": "code",
   "execution_count": null,
   "id": "23c7a351-a429-4758-9d61-5ef891fdcd26",
   "metadata": {},
   "outputs": [],
   "source": [
    "#근로개월 수 파악\n",
    "merge_df['company_enter_month'].value_counts()"
   ]
  },
  {
   "cell_type": "code",
   "execution_count": null,
   "id": "d4d7afde-ff17-4c2a-a254-c54f041c749d",
   "metadata": {},
   "outputs": [],
   "source": [
    "merge_df"
   ]
  },
  {
   "cell_type": "code",
   "execution_count": null,
   "id": "9f539e0d-d08c-44a4-94c0-59068f225e55",
   "metadata": {},
   "outputs": [],
   "source": [
    "#csv파일 저장\n",
    "merge_df.to_csv(\"merge_df.csv\", index=False)"
   ]
  },
  {
   "cell_type": "code",
   "execution_count": null,
   "id": "8c4e3927-7b92-42d8-af39-b121cf084e47",
   "metadata": {},
   "outputs": [],
   "source": []
  }
 ],
 "metadata": {
  "kernelspec": {
   "display_name": "Python 3 (ipykernel)",
   "language": "python",
   "name": "python3"
  },
  "language_info": {
   "codemirror_mode": {
    "name": "ipython",
    "version": 3
   },
   "file_extension": ".py",
   "mimetype": "text/x-python",
   "name": "python",
   "nbconvert_exporter": "python",
   "pygments_lexer": "ipython3",
   "version": "3.9.12"
  }
 },
 "nbformat": 4,
 "nbformat_minor": 5
}
